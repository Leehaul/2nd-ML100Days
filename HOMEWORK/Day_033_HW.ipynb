{
 "cells": [
  {
   "cell_type": "code",
   "execution_count": 2,
   "metadata": {
    "collapsed": false
   },
   "outputs": [],
   "source": [
    "#1. 模型的泛化能力 (generalization) 是指什麼？\n",
    "#Ans:對訓練組以外的數據預測的準確程度\n",
    "#2. 分類問題與回歸問題分別可用的目標函數有哪些？\n",
    "#Ans:\n",
    "#分類問題:0-1損失函數、交叉熵損失函數（Logistic迴歸）、交叉熵損失函數（Softmax激活）\n",
    "#回歸問題:平均絕對誤差、均方誤差、Huber損失"
   ]
  },
  {
   "cell_type": "code",
   "execution_count": null,
   "metadata": {
    "collapsed": true
   },
   "outputs": [],
   "source": []
  }
 ],
 "metadata": {
  "kernelspec": {
   "display_name": "Python 3",
   "language": "python",
   "name": "python3"
  },
  "language_info": {
   "codemirror_mode": {
    "name": "ipython",
    "version": 3
   },
   "file_extension": ".py",
   "mimetype": "text/x-python",
   "name": "python",
   "nbconvert_exporter": "python",
   "pygments_lexer": "ipython3",
   "version": "3.6.0"
  }
 },
 "nbformat": 4,
 "nbformat_minor": 2
}
