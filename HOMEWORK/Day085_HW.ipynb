{
  "nbformat": 4,
  "nbformat_minor": 0,
  "metadata": {
    "kernelspec": {
      "display_name": "Python 3",
      "language": "python",
      "name": "python3"
    },
    "language_info": {
      "codemirror_mode": {
        "name": "ipython",
        "version": 3
      },
      "file_extension": ".py",
      "mimetype": "text/x-python",
      "name": "python",
      "nbconvert_exporter": "python",
      "pygments_lexer": "ipython3",
      "version": "3.6.5"
    },
    "colab": {
      "name": "Day085_HW.ipynb",
      "provenance": [],
      "collapsed_sections": []
    }
  },
  "cells": [
    {
      "cell_type": "markdown",
      "metadata": {
        "id": "ctNVSzmCpTdU",
        "colab_type": "text"
      },
      "source": [
        "## Work\n",
        "1. 試改變 monitor \"Validation Accuracy\" 並比較結果\n",
        "2. 調整 earlystop 的等待次數至 10, 25 並比較結果"
      ]
    },
    {
      "cell_type": "code",
      "metadata": {
        "id": "tviR8kVQpTda",
        "colab_type": "code",
        "outputId": "5ff289f2-198b-43e6-9f73-58959cc15933",
        "colab": {
          "base_uri": "https://localhost:8080/",
          "height": 80
        }
      },
      "source": [
        "import os\n",
        "import keras\n",
        "import matplotlib.pyplot as plt\n",
        "%matplotlib inline\n",
        "\n",
        "\n",
        "# Disable GPU\n",
        "os.environ[\"CUDA_VISIBLE_DEVICES\"] = \"\""
      ],
      "execution_count": 0,
      "outputs": [
        {
          "output_type": "stream",
          "text": [
            "Using TensorFlow backend.\n"
          ],
          "name": "stderr"
        },
        {
          "output_type": "display_data",
          "data": {
            "text/html": [
              "<p style=\"color: red;\">\n",
              "The default version of TensorFlow in Colab will soon switch to TensorFlow 2.x.<br>\n",
              "We recommend you <a href=\"https://www.tensorflow.org/guide/migrate\" target=\"_blank\">upgrade</a> now \n",
              "or ensure your notebook will continue to use TensorFlow 1.x via the <code>%tensorflow_version 1.x</code> magic:\n",
              "<a href=\"https://colab.research.google.com/notebooks/tensorflow_version.ipynb\" target=\"_blank\">more info</a>.</p>\n"
            ],
            "text/plain": [
              "<IPython.core.display.HTML object>"
            ]
          },
          "metadata": {
            "tags": []
          }
        }
      ]
    },
    {
      "cell_type": "code",
      "metadata": {
        "id": "FEck3MZCpTde",
        "colab_type": "code",
        "outputId": "172682e2-810d-40b9-d3de-8f88aeca61c0",
        "colab": {
          "base_uri": "https://localhost:8080/",
          "height": 51
        }
      },
      "source": [
        "train, test = keras.datasets.cifar10.load_data()"
      ],
      "execution_count": 0,
      "outputs": [
        {
          "output_type": "stream",
          "text": [
            "Downloading data from https://www.cs.toronto.edu/~kriz/cifar-10-python.tar.gz\n",
            "170500096/170498071 [==============================] - 11s 0us/step\n"
          ],
          "name": "stdout"
        }
      ]
    },
    {
      "cell_type": "code",
      "metadata": {
        "id": "DK7nkLCgpTdh",
        "colab_type": "code",
        "colab": {}
      },
      "source": [
        "## 資料前處理\n",
        "def preproc_x(x, flatten=True):\n",
        "    x = x / 255.\n",
        "    if flatten:\n",
        "        x = x.reshape((len(x), -1))\n",
        "    return x\n",
        "\n",
        "def preproc_y(y, num_classes=10):\n",
        "    if y.shape[-1] == 1:\n",
        "        y = keras.utils.to_categorical(y, num_classes)\n",
        "    return y    "
      ],
      "execution_count": 0,
      "outputs": []
    },
    {
      "cell_type": "code",
      "metadata": {
        "id": "diO6kKklpTdk",
        "colab_type": "code",
        "colab": {}
      },
      "source": [
        "x_train, y_train = train\n",
        "x_test, y_test = test\n",
        "\n",
        "# Preproc the inputs\n",
        "x_train = preproc_x(x_train)\n",
        "x_test = preproc_x(x_test)\n",
        "\n",
        "# Preprc the outputs\n",
        "y_train = preproc_y(y_train)\n",
        "y_test = preproc_y(y_test)"
      ],
      "execution_count": 0,
      "outputs": []
    },
    {
      "cell_type": "code",
      "metadata": {
        "id": "DLqFON-QpTdy",
        "colab_type": "code",
        "colab": {}
      },
      "source": [
        "\n",
        "from keras.layers import BatchNormalization\n",
        "\n",
        "\"\"\"\n",
        "建立神經網路，並加入 BN layer\n",
        "\"\"\"\n",
        "def build_mlp(input_shape, output_units=10, num_neurons=[512, 256, 128]):\n",
        "    input_layer = keras.layers.Input(input_shape)\n",
        "    \n",
        "    for i, n_units in enumerate(num_neurons):\n",
        "        if i == 0:\n",
        "            x = keras.layers.Dense(units=n_units, \n",
        "                                   activation=\"relu\", \n",
        "                                   name=\"hidden_layer\"+str(i+1))(input_layer)\n",
        "            x = BatchNormalization()(x)\n",
        "        else:\n",
        "            x = keras.layers.Dense(units=n_units, \n",
        "                                   activation=\"relu\", \n",
        "                                   name=\"hidden_layer\"+str(i+1))(x)\n",
        "            x = BatchNormalization()(x)\n",
        "    \n",
        "    out = keras.layers.Dense(units=output_units, activation=\"softmax\", name=\"output\")(x)\n",
        "    \n",
        "    model = keras.models.Model(inputs=[input_layer], outputs=[out])\n",
        "    return model"
      ],
      "execution_count": 0,
      "outputs": []
    },
    {
      "cell_type": "code",
      "metadata": {
        "id": "ZWpjpmBcpTeB",
        "colab_type": "code",
        "colab": {}
      },
      "source": [
        "\"\"\"Code Here\n",
        "設定超參數\n",
        "\"\"\"\n",
        "## 超參數設定\n",
        "LEARNING_RATE = 1e-3\n",
        "EPOCHS = 50\n",
        "BATCH_SIZE = 1024\n",
        "MOMENTUM = 0.95"
      ],
      "execution_count": 0,
      "outputs": []
    },
    {
      "cell_type": "code",
      "metadata": {
        "id": "2saxjM0WpTeG",
        "colab_type": "code",
        "outputId": "9a386109-f7b5-42b3-9dd0-59f17e6b7104",
        "colab": {
          "base_uri": "https://localhost:8080/",
          "height": 1000
        }
      },
      "source": [
        "# 載入 Callbacks\n",
        "\"\"\"Code Here\n",
        "設定 callbacks: Earlystop\n",
        "\"\"\"\n",
        "\n",
        "results = {}\n",
        "\"\"\"Code Here\n",
        "撰寫你的訓練流程並將結果用 dictionary 紀錄\n",
        "\"\"\"\n",
        "\"\"\"\n",
        "# 載入 Callbacks, 並將 monitor 設定為監控 validation loss\n",
        "\"\"\"\n",
        "from keras.callbacks import EarlyStopping\n",
        "\n",
        "earlystop = EarlyStopping(monitor=\"val_loss\", \n",
        "                          patience=5, \n",
        "                          verbose=1\n",
        "                          )\n",
        "\n",
        "model = build_mlp(input_shape=x_train.shape[1:])\n",
        "model.summary()\n",
        "optimizer = keras.optimizers.SGD(lr=LEARNING_RATE, nesterov=True, momentum=MOMENTUM)\n",
        "model.compile(loss=\"categorical_crossentropy\", metrics=[\"accuracy\"], optimizer=optimizer)\n",
        "\n",
        "model.fit(x_train, y_train, \n",
        "          epochs=EPOCHS, \n",
        "          batch_size=BATCH_SIZE, \n",
        "          validation_data=(x_test, y_test), \n",
        "          shuffle=True,\n",
        "          callbacks=[earlystop]\n",
        "         )\n",
        "\n",
        "# Collect results\n",
        "train_loss = model.history.history[\"loss\"]\n",
        "valid_loss = model.history.history[\"val_loss\"]\n",
        "train_acc = model.history.history[\"acc\"]\n",
        "valid_acc = model.history.history[\"val_acc\"]"
      ],
      "execution_count": 0,
      "outputs": [
        {
          "output_type": "stream",
          "text": [
            "WARNING:tensorflow:From /usr/local/lib/python3.6/dist-packages/keras/backend/tensorflow_backend.py:66: The name tf.get_default_graph is deprecated. Please use tf.compat.v1.get_default_graph instead.\n",
            "\n",
            "WARNING:tensorflow:From /usr/local/lib/python3.6/dist-packages/keras/backend/tensorflow_backend.py:541: The name tf.placeholder is deprecated. Please use tf.compat.v1.placeholder instead.\n",
            "\n",
            "WARNING:tensorflow:From /usr/local/lib/python3.6/dist-packages/keras/backend/tensorflow_backend.py:4432: The name tf.random_uniform is deprecated. Please use tf.random.uniform instead.\n",
            "\n",
            "WARNING:tensorflow:From /usr/local/lib/python3.6/dist-packages/keras/backend/tensorflow_backend.py:148: The name tf.placeholder_with_default is deprecated. Please use tf.compat.v1.placeholder_with_default instead.\n",
            "\n",
            "Model: \"model_1\"\n",
            "_________________________________________________________________\n",
            "Layer (type)                 Output Shape              Param #   \n",
            "=================================================================\n",
            "input_1 (InputLayer)         (None, 3072)              0         \n",
            "_________________________________________________________________\n",
            "hidden_layer1 (Dense)        (None, 512)               1573376   \n",
            "_________________________________________________________________\n",
            "batch_normalization_1 (Batch (None, 512)               2048      \n",
            "_________________________________________________________________\n",
            "hidden_layer2 (Dense)        (None, 256)               131328    \n",
            "_________________________________________________________________\n",
            "batch_normalization_2 (Batch (None, 256)               1024      \n",
            "_________________________________________________________________\n",
            "hidden_layer3 (Dense)        (None, 128)               32896     \n",
            "_________________________________________________________________\n",
            "batch_normalization_3 (Batch (None, 128)               512       \n",
            "_________________________________________________________________\n",
            "output (Dense)               (None, 10)                1290      \n",
            "=================================================================\n",
            "Total params: 1,742,474\n",
            "Trainable params: 1,740,682\n",
            "Non-trainable params: 1,792\n",
            "_________________________________________________________________\n",
            "WARNING:tensorflow:From /usr/local/lib/python3.6/dist-packages/keras/optimizers.py:793: The name tf.train.Optimizer is deprecated. Please use tf.compat.v1.train.Optimizer instead.\n",
            "\n",
            "WARNING:tensorflow:From /usr/local/lib/python3.6/dist-packages/keras/backend/tensorflow_backend.py:3576: The name tf.log is deprecated. Please use tf.math.log instead.\n",
            "\n",
            "WARNING:tensorflow:From /usr/local/lib/python3.6/dist-packages/tensorflow_core/python/ops/math_grad.py:1424: where (from tensorflow.python.ops.array_ops) is deprecated and will be removed in a future version.\n",
            "Instructions for updating:\n",
            "Use tf.where in 2.0, which has the same broadcast rule as np.where\n",
            "WARNING:tensorflow:From /usr/local/lib/python3.6/dist-packages/keras/backend/tensorflow_backend.py:1033: The name tf.assign_add is deprecated. Please use tf.compat.v1.assign_add instead.\n",
            "\n",
            "WARNING:tensorflow:From /usr/local/lib/python3.6/dist-packages/keras/backend/tensorflow_backend.py:1020: The name tf.assign is deprecated. Please use tf.compat.v1.assign instead.\n",
            "\n",
            "WARNING:tensorflow:From /usr/local/lib/python3.6/dist-packages/keras/backend/tensorflow_backend.py:3005: The name tf.Session is deprecated. Please use tf.compat.v1.Session instead.\n",
            "\n",
            "Train on 50000 samples, validate on 10000 samples\n",
            "Epoch 1/50\n",
            "WARNING:tensorflow:From /usr/local/lib/python3.6/dist-packages/keras/backend/tensorflow_backend.py:190: The name tf.get_default_session is deprecated. Please use tf.compat.v1.get_default_session instead.\n",
            "\n",
            "WARNING:tensorflow:From /usr/local/lib/python3.6/dist-packages/keras/backend/tensorflow_backend.py:197: The name tf.ConfigProto is deprecated. Please use tf.compat.v1.ConfigProto instead.\n",
            "\n",
            "WARNING:tensorflow:From /usr/local/lib/python3.6/dist-packages/keras/backend/tensorflow_backend.py:207: The name tf.global_variables is deprecated. Please use tf.compat.v1.global_variables instead.\n",
            "\n",
            "WARNING:tensorflow:From /usr/local/lib/python3.6/dist-packages/keras/backend/tensorflow_backend.py:216: The name tf.is_variable_initialized is deprecated. Please use tf.compat.v1.is_variable_initialized instead.\n",
            "\n",
            "WARNING:tensorflow:From /usr/local/lib/python3.6/dist-packages/keras/backend/tensorflow_backend.py:223: The name tf.variables_initializer is deprecated. Please use tf.compat.v1.variables_initializer instead.\n",
            "\n",
            "50000/50000 [==============================] - 10s 196us/step - loss: 2.2492 - acc: 0.2722 - val_loss: 2.1321 - val_acc: 0.3210\n",
            "Epoch 2/50\n",
            "50000/50000 [==============================] - 9s 172us/step - loss: 1.7514 - acc: 0.3923 - val_loss: 1.9184 - val_acc: 0.3589\n",
            "Epoch 3/50\n",
            "50000/50000 [==============================] - 9s 174us/step - loss: 1.6224 - acc: 0.4326 - val_loss: 1.7148 - val_acc: 0.4068\n",
            "Epoch 4/50\n",
            "50000/50000 [==============================] - 9s 173us/step - loss: 1.5494 - acc: 0.4605 - val_loss: 1.6478 - val_acc: 0.4262\n",
            "Epoch 5/50\n",
            "50000/50000 [==============================] - 9s 173us/step - loss: 1.4954 - acc: 0.4784 - val_loss: 1.5982 - val_acc: 0.4414\n",
            "Epoch 6/50\n",
            "50000/50000 [==============================] - 9s 172us/step - loss: 1.4511 - acc: 0.4944 - val_loss: 1.5735 - val_acc: 0.4507\n",
            "Epoch 7/50\n",
            "50000/50000 [==============================] - 9s 173us/step - loss: 1.4103 - acc: 0.5097 - val_loss: 1.5444 - val_acc: 0.4603\n",
            "Epoch 8/50\n",
            "50000/50000 [==============================] - 9s 173us/step - loss: 1.3747 - acc: 0.5212 - val_loss: 1.5356 - val_acc: 0.4621\n",
            "Epoch 9/50\n",
            "50000/50000 [==============================] - 9s 173us/step - loss: 1.3415 - acc: 0.5347 - val_loss: 1.5149 - val_acc: 0.4691\n",
            "Epoch 10/50\n",
            "50000/50000 [==============================] - 9s 173us/step - loss: 1.3115 - acc: 0.5453 - val_loss: 1.5131 - val_acc: 0.4699\n",
            "Epoch 11/50\n",
            "50000/50000 [==============================] - 9s 172us/step - loss: 1.2811 - acc: 0.5554 - val_loss: 1.5180 - val_acc: 0.4649\n",
            "Epoch 12/50\n",
            "50000/50000 [==============================] - 9s 172us/step - loss: 1.2547 - acc: 0.5652 - val_loss: 1.4971 - val_acc: 0.4700\n",
            "Epoch 13/50\n",
            "50000/50000 [==============================] - 9s 172us/step - loss: 1.2265 - acc: 0.5754 - val_loss: 1.4859 - val_acc: 0.4791\n",
            "Epoch 14/50\n",
            "50000/50000 [==============================] - 9s 172us/step - loss: 1.2010 - acc: 0.5856 - val_loss: 1.4962 - val_acc: 0.4719\n",
            "Epoch 15/50\n",
            "50000/50000 [==============================] - 9s 171us/step - loss: 1.1772 - acc: 0.5928 - val_loss: 1.4799 - val_acc: 0.4786\n",
            "Epoch 16/50\n",
            "50000/50000 [==============================] - 9s 173us/step - loss: 1.1537 - acc: 0.6037 - val_loss: 1.4768 - val_acc: 0.4834\n",
            "Epoch 17/50\n",
            "50000/50000 [==============================] - 9s 173us/step - loss: 1.1295 - acc: 0.6134 - val_loss: 1.4762 - val_acc: 0.4891\n",
            "Epoch 18/50\n",
            "50000/50000 [==============================] - 9s 173us/step - loss: 1.1056 - acc: 0.6211 - val_loss: 1.4613 - val_acc: 0.4942\n",
            "Epoch 19/50\n",
            "50000/50000 [==============================] - 9s 174us/step - loss: 1.0828 - acc: 0.6320 - val_loss: 1.4635 - val_acc: 0.4912\n",
            "Epoch 20/50\n",
            "50000/50000 [==============================] - 9s 173us/step - loss: 1.0629 - acc: 0.6387 - val_loss: 1.4623 - val_acc: 0.4921\n",
            "Epoch 21/50\n",
            "50000/50000 [==============================] - 9s 173us/step - loss: 1.0397 - acc: 0.6469 - val_loss: 1.4698 - val_acc: 0.4905\n",
            "Epoch 22/50\n",
            "50000/50000 [==============================] - 9s 174us/step - loss: 1.0206 - acc: 0.6538 - val_loss: 1.4879 - val_acc: 0.4915\n",
            "Epoch 23/50\n",
            "50000/50000 [==============================] - 9s 174us/step - loss: 0.9981 - acc: 0.6628 - val_loss: 1.4669 - val_acc: 0.4963\n",
            "Epoch 00023: early stopping\n"
          ],
          "name": "stdout"
        }
      ]
    },
    {
      "cell_type": "code",
      "metadata": {
        "id": "_ARFR-IOpTeL",
        "colab_type": "code",
        "outputId": "d8cf1be8-3798-4af2-e38a-246edc65972c",
        "colab": {
          "base_uri": "https://localhost:8080/",
          "height": 545
        }
      },
      "source": [
        "import matplotlib.pyplot as plt\n",
        "%matplotlib inline\n",
        "\"\"\"Code Here\n",
        "將結果繪出\n",
        "\"\"\"\n",
        "\n",
        "import matplotlib.pyplot as plt\n",
        "%matplotlib inline\n",
        "\n",
        "plt.plot(range(len(train_loss)), train_loss, label=\"train loss\")\n",
        "plt.plot(range(len(valid_loss)), valid_loss, label=\"valid loss\")\n",
        "plt.legend()\n",
        "plt.title(\"Loss\")\n",
        "plt.show()\n",
        "\n",
        "plt.plot(range(len(train_acc)), train_acc, label=\"train accuracy\")\n",
        "plt.plot(range(len(valid_acc)), valid_acc, label=\"valid accuracy\")\n",
        "plt.legend()\n",
        "plt.title(\"Accuracy\")\n",
        "plt.show()"
      ],
      "execution_count": 0,
      "outputs": [
        {
          "output_type": "display_data",
          "data": {
            "image/png": "[encoded data removed]",
            "text/plain": [
              "<Figure size 432x288 with 1 Axes>"
            ]
          },
          "metadata": {
            "tags": []
          }
        },
        {
          "output_type": "display_data",
          "data": {
            "image/png": "[encoded data removed]",
            "text/plain": [
              "<Figure size 432x288 with 1 Axes>"
            ]
          },
          "metadata": {
            "tags": []
          }
        }
      ]
    },
    {
      "cell_type": "code",
      "metadata": {
        "id": "I2HkOSnCtEfw",
        "colab_type": "code",
        "outputId": "e58336c6-7aa1-4b46-962d-ff7b1863870c",
        "colab": {
          "base_uri": "https://localhost:8080/",
          "height": 1000
        }
      },
      "source": [
        "# 載入 Callbacks\n",
        "\"\"\"Code Here\n",
        "設定 callbacks: Earlystop\n",
        "\"\"\"\n",
        "\n",
        "results = {}\n",
        "\"\"\"Code Here\n",
        "撰寫你的訓練流程並將結果用 dictionary 紀錄\n",
        "\"\"\"\n",
        "\"\"\"\n",
        "# 載入 Callbacks, 並將 monitor 設定為監控 validation loss\n",
        "\"\"\"\n",
        "from keras.callbacks import EarlyStopping\n",
        "\n",
        "earlystop = EarlyStopping(monitor=\"val_acc\", \n",
        "                          patience=5, \n",
        "                          verbose=1\n",
        "                          )\n",
        "\n",
        "model = build_mlp(input_shape=x_train.shape[1:])\n",
        "model.summary()\n",
        "optimizer = keras.optimizers.SGD(lr=LEARNING_RATE, nesterov=True, momentum=MOMENTUM)\n",
        "model.compile(loss=\"categorical_crossentropy\", metrics=[\"accuracy\"], optimizer=optimizer)\n",
        "\n",
        "model.fit(x_train, y_train, \n",
        "          epochs=EPOCHS, \n",
        "          batch_size=BATCH_SIZE, \n",
        "          validation_data=(x_test, y_test), \n",
        "          shuffle=True,\n",
        "          callbacks=[earlystop]\n",
        "         )\n",
        "\n",
        "# Collect results\n",
        "train_loss = model.history.history[\"loss\"]\n",
        "valid_loss = model.history.history[\"val_loss\"]\n",
        "train_acc = model.history.history[\"acc\"]\n",
        "valid_acc = model.history.history[\"val_acc\"]"
      ],
      "execution_count": 0,
      "outputs": [
        {
          "output_type": "stream",
          "text": [
            "Model: \"model_2\"\n",
            "_________________________________________________________________\n",
            "Layer (type)                 Output Shape              Param #   \n",
            "=================================================================\n",
            "input_2 (InputLayer)         (None, 3072)              0         \n",
            "_________________________________________________________________\n",
            "hidden_layer1 (Dense)        (None, 512)               1573376   \n",
            "_________________________________________________________________\n",
            "batch_normalization_4 (Batch (None, 512)               2048      \n",
            "_________________________________________________________________\n",
            "hidden_layer2 (Dense)        (None, 256)               131328    \n",
            "_________________________________________________________________\n",
            "batch_normalization_5 (Batch (None, 256)               1024      \n",
            "_________________________________________________________________\n",
            "hidden_layer3 (Dense)        (None, 128)               32896     \n",
            "_________________________________________________________________\n",
            "batch_normalization_6 (Batch (None, 128)               512       \n",
            "_________________________________________________________________\n",
            "output (Dense)               (None, 10)                1290      \n",
            "=================================================================\n",
            "Total params: 1,742,474\n",
            "Trainable params: 1,740,682\n",
            "Non-trainable params: 1,792\n",
            "_________________________________________________________________\n",
            "Train on 50000 samples, validate on 10000 samples\n",
            "Epoch 1/50\n",
            "50000/50000 [==============================] - 9s 190us/step - loss: 2.1741 - acc: 0.2765 - val_loss: 2.0367 - val_acc: 0.3153\n",
            "Epoch 2/50\n",
            "50000/50000 [==============================] - 9s 177us/step - loss: 1.7392 - acc: 0.3910 - val_loss: 1.8190 - val_acc: 0.3833\n",
            "Epoch 3/50\n",
            "50000/50000 [==============================] - 9s 177us/step - loss: 1.6193 - acc: 0.4320 - val_loss: 1.7125 - val_acc: 0.4078\n",
            "Epoch 4/50\n",
            "50000/50000 [==============================] - 9s 177us/step - loss: 1.5456 - acc: 0.4591 - val_loss: 1.6551 - val_acc: 0.4264\n",
            "Epoch 5/50\n",
            "50000/50000 [==============================] - 9s 176us/step - loss: 1.4882 - acc: 0.4789 - val_loss: 1.6078 - val_acc: 0.4375\n",
            "Epoch 6/50\n",
            "50000/50000 [==============================] - 9s 178us/step - loss: 1.4435 - acc: 0.4950 - val_loss: 1.5946 - val_acc: 0.4453\n",
            "Epoch 7/50\n",
            "50000/50000 [==============================] - 9s 177us/step - loss: 1.4023 - acc: 0.5124 - val_loss: 1.5461 - val_acc: 0.4608\n",
            "Epoch 8/50\n",
            "50000/50000 [==============================] - 9s 176us/step - loss: 1.3653 - acc: 0.5248 - val_loss: 1.5389 - val_acc: 0.4605\n",
            "Epoch 9/50\n",
            "50000/50000 [==============================] - 9s 177us/step - loss: 1.3337 - acc: 0.5371 - val_loss: 1.5242 - val_acc: 0.4650\n",
            "Epoch 10/50\n",
            "50000/50000 [==============================] - 9s 178us/step - loss: 1.3030 - acc: 0.5474 - val_loss: 1.5039 - val_acc: 0.4735\n",
            "Epoch 11/50\n",
            "50000/50000 [==============================] - 9s 178us/step - loss: 1.2755 - acc: 0.5569 - val_loss: 1.4931 - val_acc: 0.4746\n",
            "Epoch 12/50\n",
            "50000/50000 [==============================] - 9s 180us/step - loss: 1.2490 - acc: 0.5668 - val_loss: 1.4952 - val_acc: 0.4727\n",
            "Epoch 13/50\n",
            "50000/50000 [==============================] - 9s 178us/step - loss: 1.2221 - acc: 0.5765 - val_loss: 1.4848 - val_acc: 0.4826\n",
            "Epoch 14/50\n",
            "50000/50000 [==============================] - 9s 178us/step - loss: 1.1962 - acc: 0.5847 - val_loss: 1.4796 - val_acc: 0.4810\n",
            "Epoch 15/50\n",
            "50000/50000 [==============================] - 9s 177us/step - loss: 1.1726 - acc: 0.5942 - val_loss: 1.4658 - val_acc: 0.4894\n",
            "Epoch 16/50\n",
            "50000/50000 [==============================] - 9s 178us/step - loss: 1.1462 - acc: 0.6063 - val_loss: 1.4751 - val_acc: 0.4888\n",
            "Epoch 17/50\n",
            "50000/50000 [==============================] - 9s 178us/step - loss: 1.1266 - acc: 0.6100 - val_loss: 1.4686 - val_acc: 0.4934\n",
            "Epoch 18/50\n",
            "50000/50000 [==============================] - 9s 177us/step - loss: 1.1033 - acc: 0.6208 - val_loss: 1.4732 - val_acc: 0.4857\n",
            "Epoch 19/50\n",
            "50000/50000 [==============================] - 9s 178us/step - loss: 1.0785 - acc: 0.6308 - val_loss: 1.4630 - val_acc: 0.4887\n",
            "Epoch 20/50\n",
            "50000/50000 [==============================] - 9s 178us/step - loss: 1.0608 - acc: 0.6360 - val_loss: 1.4755 - val_acc: 0.4870\n",
            "Epoch 21/50\n",
            "50000/50000 [==============================] - 9s 178us/step - loss: 1.0352 - acc: 0.6471 - val_loss: 1.4768 - val_acc: 0.4917\n",
            "Epoch 22/50\n",
            "50000/50000 [==============================] - 9s 177us/step - loss: 1.0137 - acc: 0.6551 - val_loss: 1.4715 - val_acc: 0.4942\n",
            "Epoch 23/50\n",
            "50000/50000 [==============================] - 9s 178us/step - loss: 0.9942 - acc: 0.6625 - val_loss: 1.4604 - val_acc: 0.4963\n",
            "Epoch 24/50\n",
            "50000/50000 [==============================] - 9s 177us/step - loss: 0.9729 - acc: 0.6710 - val_loss: 1.4719 - val_acc: 0.4976\n",
            "Epoch 25/50\n",
            "50000/50000 [==============================] - 9s 176us/step - loss: 0.9510 - acc: 0.6792 - val_loss: 1.4748 - val_acc: 0.4932\n",
            "Epoch 26/50\n",
            "50000/50000 [==============================] - 9s 178us/step - loss: 0.9321 - acc: 0.6883 - val_loss: 1.4724 - val_acc: 0.4979\n",
            "Epoch 27/50\n",
            "50000/50000 [==============================] - 9s 178us/step - loss: 0.9106 - acc: 0.6939 - val_loss: 1.4855 - val_acc: 0.4953\n",
            "Epoch 28/50\n",
            "50000/50000 [==============================] - 9s 177us/step - loss: 0.8907 - acc: 0.7037 - val_loss: 1.4782 - val_acc: 0.4963\n",
            "Epoch 29/50\n",
            "50000/50000 [==============================] - 9s 178us/step - loss: 0.8691 - acc: 0.7135 - val_loss: 1.4822 - val_acc: 0.4968\n",
            "Epoch 30/50\n",
            "50000/50000 [==============================] - 9s 179us/step - loss: 0.8510 - acc: 0.7185 - val_loss: 1.4961 - val_acc: 0.4954\n",
            "Epoch 31/50\n",
            "50000/50000 [==============================] - 9s 180us/step - loss: 0.8301 - acc: 0.7283 - val_loss: 1.4946 - val_acc: 0.4952\n",
            "Epoch 00031: early stopping\n"
          ],
          "name": "stdout"
        }
      ]
    },
    {
      "cell_type": "code",
      "metadata": {
        "id": "OnKjeSbxtEa1",
        "colab_type": "code",
        "outputId": "8ec02aea-413e-4ec2-ccc2-cba0395290ad",
        "colab": {
          "base_uri": "https://localhost:8080/",
          "height": 545
        }
      },
      "source": [
        "import matplotlib.pyplot as plt\n",
        "%matplotlib inline\n",
        "\"\"\"Code Here\n",
        "將結果繪出\n",
        "\"\"\"\n",
        "\n",
        "import matplotlib.pyplot as plt\n",
        "%matplotlib inline\n",
        "\n",
        "plt.plot(range(len(train_loss)), train_loss, label=\"train loss\")\n",
        "plt.plot(range(len(valid_loss)), valid_loss, label=\"valid loss\")\n",
        "plt.legend()\n",
        "plt.title(\"Loss\")\n",
        "plt.show()\n",
        "\n",
        "plt.plot(range(len(train_acc)), train_acc, label=\"train accuracy\")\n",
        "plt.plot(range(len(valid_acc)), valid_acc, label=\"valid accuracy\")\n",
        "plt.legend()\n",
        "plt.title(\"Accuracy\")\n",
        "plt.show()"
      ],
      "execution_count": 0,
      "outputs": [
        {
          "output_type": "display_data",
          "data": {
            "image/png": "[encoded data removed]",
            "text/plain": [
              "<Figure size 432x288 with 1 Axes>"
            ]
          },
          "metadata": {
            "tags": []
          }
        },
        {
          "output_type": "display_data",
          "data": {
            "image/png": "[encoded data removed]",
            "text/plain": [
              "<Figure size 432x288 with 1 Axes>"
            ]
          },
          "metadata": {
            "tags": []
          }
        }
      ]
    },
    {
      "cell_type": "code",
      "metadata": {
        "id": "jqVGXcGztEXi",
        "colab_type": "code",
        "outputId": "50c39934-1d40-4009-bdc5-fd3b8e44aa21",
        "colab": {
          "base_uri": "https://localhost:8080/",
          "height": 1000
        }
      },
      "source": [
        "# 載入 Callbacks\n",
        "\"\"\"Code Here\n",
        "設定 callbacks: Earlystop\n",
        "\"\"\"\n",
        "\n",
        "results = {}\n",
        "\"\"\"Code Here\n",
        "撰寫你的訓練流程並將結果用 dictionary 紀錄\n",
        "\"\"\"\n",
        "\"\"\"\n",
        "# 載入 Callbacks, 並將 monitor 設定為監控 validation loss\n",
        "\"\"\"\n",
        "from keras.callbacks import EarlyStopping\n",
        "\n",
        "earlystop = EarlyStopping(monitor=\"val_acc\", \n",
        "                          patience=10, \n",
        "                          verbose=1\n",
        "                          )\n",
        "\n",
        "model = build_mlp(input_shape=x_train.shape[1:])\n",
        "model.summary()\n",
        "optimizer = keras.optimizers.SGD(lr=LEARNING_RATE, nesterov=True, momentum=MOMENTUM)\n",
        "model.compile(loss=\"categorical_crossentropy\", metrics=[\"accuracy\"], optimizer=optimizer)\n",
        "\n",
        "model.fit(x_train, y_train, \n",
        "          epochs=EPOCHS, \n",
        "          batch_size=BATCH_SIZE, \n",
        "          validation_data=(x_test, y_test), \n",
        "          shuffle=True,\n",
        "          callbacks=[earlystop]\n",
        "         )\n",
        "\n",
        "# Collect results\n",
        "train_loss = model.history.history[\"loss\"]\n",
        "valid_loss = model.history.history[\"val_loss\"]\n",
        "train_acc = model.history.history[\"acc\"]\n",
        "valid_acc = model.history.history[\"val_acc\"]"
      ],
      "execution_count": 0,
      "outputs": [
        {
          "output_type": "stream",
          "text": [
            "Model: \"model_3\"\n",
            "_________________________________________________________________\n",
            "Layer (type)                 Output Shape              Param #   \n",
            "=================================================================\n",
            "input_3 (InputLayer)         (None, 3072)              0         \n",
            "_________________________________________________________________\n",
            "hidden_layer1 (Dense)        (None, 512)               1573376   \n",
            "_________________________________________________________________\n",
            "batch_normalization_7 (Batch (None, 512)               2048      \n",
            "_________________________________________________________________\n",
            "hidden_layer2 (Dense)        (None, 256)               131328    \n",
            "_________________________________________________________________\n",
            "batch_normalization_8 (Batch (None, 256)               1024      \n",
            "_________________________________________________________________\n",
            "hidden_layer3 (Dense)        (None, 128)               32896     \n",
            "_________________________________________________________________\n",
            "batch_normalization_9 (Batch (None, 128)               512       \n",
            "_________________________________________________________________\n",
            "output (Dense)               (None, 10)                1290      \n",
            "=================================================================\n",
            "Total params: 1,742,474\n",
            "Trainable params: 1,740,682\n",
            "Non-trainable params: 1,792\n",
            "_________________________________________________________________\n",
            "Train on 50000 samples, validate on 10000 samples\n",
            "Epoch 1/50\n",
            "50000/50000 [==============================] - 10s 199us/step - loss: 2.2265 - acc: 0.2602 - val_loss: 2.0734 - val_acc: 0.3272\n",
            "Epoch 2/50\n",
            "50000/50000 [==============================] - 9s 176us/step - loss: 1.7507 - acc: 0.3892 - val_loss: 1.8758 - val_acc: 0.3643\n",
            "Epoch 3/50\n",
            "50000/50000 [==============================] - 9s 175us/step - loss: 1.6256 - acc: 0.4328 - val_loss: 1.6998 - val_acc: 0.4060\n",
            "Epoch 4/50\n",
            "50000/50000 [==============================] - 9s 174us/step - loss: 1.5502 - acc: 0.4600 - val_loss: 1.6372 - val_acc: 0.4250\n",
            "Epoch 5/50\n",
            "50000/50000 [==============================] - 9s 175us/step - loss: 1.4934 - acc: 0.4796 - val_loss: 1.5972 - val_acc: 0.4367\n",
            "Epoch 6/50\n",
            "50000/50000 [==============================] - 9s 174us/step - loss: 1.4492 - acc: 0.4961 - val_loss: 1.5816 - val_acc: 0.4431\n",
            "Epoch 7/50\n",
            "50000/50000 [==============================] - 9s 173us/step - loss: 1.4087 - acc: 0.5082 - val_loss: 1.5630 - val_acc: 0.4481\n",
            "Epoch 8/50\n",
            "50000/50000 [==============================] - 9s 173us/step - loss: 1.3732 - acc: 0.5240 - val_loss: 1.5404 - val_acc: 0.4565\n",
            "Epoch 9/50\n",
            "50000/50000 [==============================] - 9s 173us/step - loss: 1.3413 - acc: 0.5331 - val_loss: 1.5282 - val_acc: 0.4622\n",
            "Epoch 10/50\n",
            "50000/50000 [==============================] - 9s 172us/step - loss: 1.3123 - acc: 0.5470 - val_loss: 1.5230 - val_acc: 0.4652\n",
            "Epoch 11/50\n",
            "50000/50000 [==============================] - 9s 173us/step - loss: 1.2844 - acc: 0.5548 - val_loss: 1.5082 - val_acc: 0.4714\n",
            "Epoch 12/50\n",
            "50000/50000 [==============================] - 9s 173us/step - loss: 1.2563 - acc: 0.5653 - val_loss: 1.4931 - val_acc: 0.4745\n",
            "Epoch 13/50\n",
            "50000/50000 [==============================] - 9s 174us/step - loss: 1.2297 - acc: 0.5748 - val_loss: 1.4905 - val_acc: 0.4800\n",
            "Epoch 14/50\n",
            "50000/50000 [==============================] - 9s 172us/step - loss: 1.2051 - acc: 0.5853 - val_loss: 1.4957 - val_acc: 0.4770\n",
            "Epoch 15/50\n",
            "50000/50000 [==============================] - 9s 173us/step - loss: 1.1821 - acc: 0.5933 - val_loss: 1.4781 - val_acc: 0.4817\n",
            "Epoch 16/50\n",
            "50000/50000 [==============================] - 9s 175us/step - loss: 1.1591 - acc: 0.6036 - val_loss: 1.4830 - val_acc: 0.4817\n",
            "Epoch 17/50\n",
            "50000/50000 [==============================] - 9s 172us/step - loss: 1.1351 - acc: 0.6111 - val_loss: 1.4675 - val_acc: 0.4922\n",
            "Epoch 18/50\n",
            "50000/50000 [==============================] - 9s 174us/step - loss: 1.1138 - acc: 0.6200 - val_loss: 1.4714 - val_acc: 0.4837\n",
            "Epoch 19/50\n",
            "50000/50000 [==============================] - 9s 173us/step - loss: 1.0923 - acc: 0.6272 - val_loss: 1.4687 - val_acc: 0.4916\n",
            "Epoch 20/50\n",
            "50000/50000 [==============================] - 9s 173us/step - loss: 1.0701 - acc: 0.6370 - val_loss: 1.4659 - val_acc: 0.4914\n",
            "Epoch 21/50\n",
            "50000/50000 [==============================] - 9s 171us/step - loss: 1.0482 - acc: 0.6445 - val_loss: 1.4929 - val_acc: 0.4807\n",
            "Epoch 22/50\n",
            "50000/50000 [==============================] - 9s 172us/step - loss: 1.0272 - acc: 0.6532 - val_loss: 1.4824 - val_acc: 0.4928\n",
            "Epoch 23/50\n",
            "50000/50000 [==============================] - 9s 171us/step - loss: 1.0063 - acc: 0.6610 - val_loss: 1.4651 - val_acc: 0.4967\n",
            "Epoch 24/50\n",
            "50000/50000 [==============================] - 9s 171us/step - loss: 0.9861 - acc: 0.6681 - val_loss: 1.4793 - val_acc: 0.4948\n",
            "Epoch 25/50\n",
            "50000/50000 [==============================] - 9s 171us/step - loss: 0.9636 - acc: 0.6780 - val_loss: 1.4751 - val_acc: 0.4980\n",
            "Epoch 26/50\n",
            "50000/50000 [==============================] - 9s 172us/step - loss: 0.9440 - acc: 0.6864 - val_loss: 1.4792 - val_acc: 0.4951\n",
            "Epoch 27/50\n",
            "50000/50000 [==============================] - 9s 172us/step - loss: 0.9227 - acc: 0.6930 - val_loss: 1.4907 - val_acc: 0.4936\n",
            "Epoch 28/50\n",
            "50000/50000 [==============================] - 9s 171us/step - loss: 0.9051 - acc: 0.7017 - val_loss: 1.4866 - val_acc: 0.4992\n",
            "Epoch 29/50\n",
            "50000/50000 [==============================] - 9s 172us/step - loss: 0.8856 - acc: 0.7098 - val_loss: 1.4873 - val_acc: 0.4971\n",
            "Epoch 30/50\n",
            "50000/50000 [==============================] - 9s 172us/step - loss: 0.8633 - acc: 0.7180 - val_loss: 1.4922 - val_acc: 0.4973\n",
            "Epoch 31/50\n",
            "50000/50000 [==============================] - 9s 172us/step - loss: 0.8443 - acc: 0.7257 - val_loss: 1.5009 - val_acc: 0.4977\n",
            "Epoch 32/50\n",
            "50000/50000 [==============================] - 9s 172us/step - loss: 0.8232 - acc: 0.7331 - val_loss: 1.5134 - val_acc: 0.4953\n",
            "Epoch 33/50\n",
            "50000/50000 [==============================] - 9s 172us/step - loss: 0.8057 - acc: 0.7402 - val_loss: 1.5035 - val_acc: 0.4967\n",
            "Epoch 34/50\n",
            "50000/50000 [==============================] - 9s 172us/step - loss: 0.7861 - acc: 0.7463 - val_loss: 1.5229 - val_acc: 0.4968\n",
            "Epoch 35/50\n",
            "50000/50000 [==============================] - 9s 175us/step - loss: 0.7650 - acc: 0.7553 - val_loss: 1.5238 - val_acc: 0.4978\n",
            "Epoch 36/50\n",
            "50000/50000 [==============================] - 9s 176us/step - loss: 0.7478 - acc: 0.7627 - val_loss: 1.5482 - val_acc: 0.4866\n",
            "Epoch 37/50\n",
            "50000/50000 [==============================] - 9s 176us/step - loss: 0.7277 - acc: 0.7719 - val_loss: 1.5415 - val_acc: 0.4906\n",
            "Epoch 38/50\n",
            "50000/50000 [==============================] - 9s 175us/step - loss: 0.7106 - acc: 0.7793 - val_loss: 1.5458 - val_acc: 0.4913\n",
            "Epoch 00038: early stopping\n"
          ],
          "name": "stdout"
        }
      ]
    },
    {
      "cell_type": "code",
      "metadata": {
        "id": "otG19JoHtERq",
        "colab_type": "code",
        "outputId": "c449b8f0-b42b-4a20-d143-5dcd04c4f29e",
        "colab": {
          "base_uri": "https://localhost:8080/",
          "height": 545
        }
      },
      "source": [
        "import matplotlib.pyplot as plt\n",
        "%matplotlib inline\n",
        "\"\"\"Code Here\n",
        "將結果繪出\n",
        "\"\"\"\n",
        "\n",
        "import matplotlib.pyplot as plt\n",
        "%matplotlib inline\n",
        "\n",
        "plt.plot(range(len(train_loss)), train_loss, label=\"train loss\")\n",
        "plt.plot(range(len(valid_loss)), valid_loss, label=\"valid loss\")\n",
        "plt.legend()\n",
        "plt.title(\"Loss\")\n",
        "plt.show()\n",
        "\n",
        "plt.plot(range(len(train_acc)), train_acc, label=\"train accuracy\")\n",
        "plt.plot(range(len(valid_acc)), valid_acc, label=\"valid accuracy\")\n",
        "plt.legend()\n",
        "plt.title(\"Accuracy\")\n",
        "plt.show()"
      ],
      "execution_count": 0,
      "outputs": [
        {
          "output_type": "display_data",
          "data": {
            "image/png": "[encoded data removed]",
            "text/plain": [
              "<Figure size 432x288 with 1 Axes>"
            ]
          },
          "metadata": {
            "tags": []
          }
        },
        {
          "output_type": "display_data",
          "data": {
            "image/png": "[encoded data removed]",
            "text/plain": [
              "<Figure size 432x288 with 1 Axes>"
            ]
          },
          "metadata": {
            "tags": []
          }
        }
      ]
    },
    {
      "cell_type": "code",
      "metadata": {
        "id": "vH1uDmCKtEEj",
        "colab_type": "code",
        "outputId": "6d2d31bf-0472-4b7e-c00f-47788a5a7095",
        "colab": {
          "base_uri": "https://localhost:8080/",
          "height": 1000
        }
      },
      "source": [
        "# 載入 Callbacks\n",
        "\"\"\"Code Here\n",
        "設定 callbacks: Earlystop\n",
        "\"\"\"\n",
        "\n",
        "results = {}\n",
        "\"\"\"Code Here\n",
        "撰寫你的訓練流程並將結果用 dictionary 紀錄\n",
        "\"\"\"\n",
        "\"\"\"\n",
        "# 載入 Callbacks, 並將 monitor 設定為監控 validation loss\n",
        "\"\"\"\n",
        "from keras.callbacks import EarlyStopping\n",
        "\n",
        "earlystop = EarlyStopping(monitor=\"val_acc\", \n",
        "                          patience=25, \n",
        "                          verbose=1\n",
        "                          )\n",
        "\n",
        "model = build_mlp(input_shape=x_train.shape[1:])\n",
        "model.summary()\n",
        "optimizer = keras.optimizers.SGD(lr=LEARNING_RATE, nesterov=True, momentum=MOMENTUM)\n",
        "model.compile(loss=\"categorical_crossentropy\", metrics=[\"accuracy\"], optimizer=optimizer)\n",
        "\n",
        "model.fit(x_train, y_train, \n",
        "          epochs=EPOCHS, \n",
        "          batch_size=BATCH_SIZE, \n",
        "          validation_data=(x_test, y_test), \n",
        "          shuffle=True,\n",
        "          callbacks=[earlystop]\n",
        "         )\n",
        "\n",
        "# Collect results\n",
        "train_loss = model.history.history[\"loss\"]\n",
        "valid_loss = model.history.history[\"val_loss\"]\n",
        "train_acc = model.history.history[\"acc\"]\n",
        "valid_acc = model.history.history[\"val_acc\"]"
      ],
      "execution_count": 0,
      "outputs": [
        {
          "output_type": "stream",
          "text": [
            "Model: \"model_4\"\n",
            "_________________________________________________________________\n",
            "Layer (type)                 Output Shape              Param #   \n",
            "=================================================================\n",
            "input_4 (InputLayer)         (None, 3072)              0         \n",
            "_________________________________________________________________\n",
            "hidden_layer1 (Dense)        (None, 512)               1573376   \n",
            "_________________________________________________________________\n",
            "batch_normalization_10 (Batc (None, 512)               2048      \n",
            "_________________________________________________________________\n",
            "hidden_layer2 (Dense)        (None, 256)               131328    \n",
            "_________________________________________________________________\n",
            "batch_normalization_11 (Batc (None, 256)               1024      \n",
            "_________________________________________________________________\n",
            "hidden_layer3 (Dense)        (None, 128)               32896     \n",
            "_________________________________________________________________\n",
            "batch_normalization_12 (Batc (None, 128)               512       \n",
            "_________________________________________________________________\n",
            "output (Dense)               (None, 10)                1290      \n",
            "=================================================================\n",
            "Total params: 1,742,474\n",
            "Trainable params: 1,740,682\n",
            "Non-trainable params: 1,792\n",
            "_________________________________________________________________\n",
            "Train on 50000 samples, validate on 10000 samples\n",
            "Epoch 1/50\n",
            "50000/50000 [==============================] - 10s 203us/step - loss: 2.2185 - acc: 0.2664 - val_loss: 2.0796 - val_acc: 0.3232\n",
            "Epoch 2/50\n",
            "50000/50000 [==============================] - 9s 181us/step - loss: 1.7388 - acc: 0.3937 - val_loss: 1.7880 - val_acc: 0.3828\n",
            "Epoch 3/50\n",
            "50000/50000 [==============================] - 9s 181us/step - loss: 1.6162 - acc: 0.4341 - val_loss: 1.6780 - val_acc: 0.4120\n",
            "Epoch 4/50\n",
            "50000/50000 [==============================] - 9s 179us/step - loss: 1.5413 - acc: 0.4595 - val_loss: 1.6273 - val_acc: 0.4268\n",
            "Epoch 5/50\n",
            "50000/50000 [==============================] - 9s 181us/step - loss: 1.4871 - acc: 0.4801 - val_loss: 1.5826 - val_acc: 0.4411\n",
            "Epoch 6/50\n",
            "50000/50000 [==============================] - 9s 181us/step - loss: 1.4416 - acc: 0.4948 - val_loss: 1.5609 - val_acc: 0.4514\n",
            "Epoch 7/50\n",
            "50000/50000 [==============================] - 9s 180us/step - loss: 1.4042 - acc: 0.5088 - val_loss: 1.5458 - val_acc: 0.4545\n",
            "Epoch 8/50\n",
            "50000/50000 [==============================] - 9s 180us/step - loss: 1.3669 - acc: 0.5226 - val_loss: 1.5321 - val_acc: 0.4543\n",
            "Epoch 9/50\n",
            "50000/50000 [==============================] - 9s 179us/step - loss: 1.3363 - acc: 0.5337 - val_loss: 1.5161 - val_acc: 0.4628\n",
            "Epoch 10/50\n",
            "50000/50000 [==============================] - 9s 179us/step - loss: 1.3023 - acc: 0.5450 - val_loss: 1.5107 - val_acc: 0.4647\n",
            "Epoch 11/50\n",
            "50000/50000 [==============================] - 9s 180us/step - loss: 1.2746 - acc: 0.5547 - val_loss: 1.4914 - val_acc: 0.4688\n",
            "Epoch 12/50\n",
            "50000/50000 [==============================] - 9s 181us/step - loss: 1.2483 - acc: 0.5646 - val_loss: 1.4878 - val_acc: 0.4740\n",
            "Epoch 13/50\n",
            "50000/50000 [==============================] - 9s 182us/step - loss: 1.2227 - acc: 0.5763 - val_loss: 1.4773 - val_acc: 0.4765\n",
            "Epoch 14/50\n",
            "50000/50000 [==============================] - 9s 181us/step - loss: 1.1969 - acc: 0.5854 - val_loss: 1.4638 - val_acc: 0.4799\n",
            "Epoch 15/50\n",
            "50000/50000 [==============================] - 9s 181us/step - loss: 1.1718 - acc: 0.5954 - val_loss: 1.4756 - val_acc: 0.4792\n",
            "Epoch 16/50\n",
            "50000/50000 [==============================] - 9s 180us/step - loss: 1.1483 - acc: 0.6027 - val_loss: 1.4616 - val_acc: 0.4858\n",
            "Epoch 17/50\n",
            "50000/50000 [==============================] - 9s 179us/step - loss: 1.1249 - acc: 0.6130 - val_loss: 1.4513 - val_acc: 0.4877\n",
            "Epoch 18/50\n",
            "50000/50000 [==============================] - 9s 180us/step - loss: 1.1020 - acc: 0.6210 - val_loss: 1.4545 - val_acc: 0.4894\n",
            "Epoch 19/50\n",
            "50000/50000 [==============================] - 9s 180us/step - loss: 1.0777 - acc: 0.6302 - val_loss: 1.4521 - val_acc: 0.4897\n",
            "Epoch 20/50\n",
            "50000/50000 [==============================] - 9s 180us/step - loss: 1.0558 - acc: 0.6382 - val_loss: 1.4610 - val_acc: 0.4846\n",
            "Epoch 21/50\n",
            "50000/50000 [==============================] - 9s 181us/step - loss: 1.0352 - acc: 0.6477 - val_loss: 1.4580 - val_acc: 0.4865\n",
            "Epoch 22/50\n",
            "50000/50000 [==============================] - 9s 180us/step - loss: 1.0119 - acc: 0.6578 - val_loss: 1.4726 - val_acc: 0.4818\n",
            "Epoch 23/50\n",
            "50000/50000 [==============================] - 9s 181us/step - loss: 0.9924 - acc: 0.6653 - val_loss: 1.4597 - val_acc: 0.4873\n",
            "Epoch 24/50\n",
            "50000/50000 [==============================] - 9s 181us/step - loss: 0.9723 - acc: 0.6729 - val_loss: 1.4588 - val_acc: 0.4872\n",
            "Epoch 25/50\n",
            "50000/50000 [==============================] - 9s 179us/step - loss: 0.9493 - acc: 0.6811 - val_loss: 1.4594 - val_acc: 0.4922\n",
            "Epoch 26/50\n",
            "50000/50000 [==============================] - 9s 181us/step - loss: 0.9283 - acc: 0.6901 - val_loss: 1.4657 - val_acc: 0.4929\n",
            "Epoch 27/50\n",
            "50000/50000 [==============================] - 9s 180us/step - loss: 0.9060 - acc: 0.6987 - val_loss: 1.4919 - val_acc: 0.4839\n",
            "Epoch 28/50\n",
            "50000/50000 [==============================] - 9s 180us/step - loss: 0.8883 - acc: 0.7050 - val_loss: 1.4762 - val_acc: 0.4881\n",
            "Epoch 29/50\n",
            "50000/50000 [==============================] - 9s 179us/step - loss: 0.8658 - acc: 0.7163 - val_loss: 1.4805 - val_acc: 0.4868\n",
            "Epoch 30/50\n",
            "50000/50000 [==============================] - 9s 180us/step - loss: 0.8461 - acc: 0.7210 - val_loss: 1.4939 - val_acc: 0.4929\n",
            "Epoch 31/50\n",
            "50000/50000 [==============================] - 9s 179us/step - loss: 0.8264 - acc: 0.7295 - val_loss: 1.5051 - val_acc: 0.4867\n",
            "Epoch 32/50\n",
            "50000/50000 [==============================] - 9s 180us/step - loss: 0.8071 - acc: 0.7374 - val_loss: 1.5034 - val_acc: 0.4914\n",
            "Epoch 33/50\n",
            "50000/50000 [==============================] - 9s 181us/step - loss: 0.7890 - acc: 0.7448 - val_loss: 1.5003 - val_acc: 0.4952\n",
            "Epoch 34/50\n",
            "50000/50000 [==============================] - 9s 179us/step - loss: 0.7687 - acc: 0.7527 - val_loss: 1.5251 - val_acc: 0.4887\n",
            "Epoch 35/50\n",
            "50000/50000 [==============================] - 9s 178us/step - loss: 0.7480 - acc: 0.7610 - val_loss: 1.5139 - val_acc: 0.4894\n",
            "Epoch 36/50\n",
            "50000/50000 [==============================] - 9s 177us/step - loss: 0.7302 - acc: 0.7687 - val_loss: 1.5295 - val_acc: 0.4910\n",
            "Epoch 37/50\n",
            "50000/50000 [==============================] - 9s 179us/step - loss: 0.7109 - acc: 0.7739 - val_loss: 1.5525 - val_acc: 0.4914\n",
            "Epoch 38/50\n",
            "50000/50000 [==============================] - 9s 179us/step - loss: 0.6910 - acc: 0.7823 - val_loss: 1.5455 - val_acc: 0.4897\n",
            "Epoch 39/50\n",
            "50000/50000 [==============================] - 9s 179us/step - loss: 0.6725 - acc: 0.7916 - val_loss: 1.5683 - val_acc: 0.4875\n",
            "Epoch 40/50\n",
            "50000/50000 [==============================] - 9s 179us/step - loss: 0.6535 - acc: 0.7983 - val_loss: 1.5841 - val_acc: 0.4922\n",
            "Epoch 41/50\n",
            "50000/50000 [==============================] - 9s 180us/step - loss: 0.6363 - acc: 0.8052 - val_loss: 1.5846 - val_acc: 0.4898\n",
            "Epoch 42/50\n",
            "50000/50000 [==============================] - 9s 180us/step - loss: 0.6190 - acc: 0.8128 - val_loss: 1.5887 - val_acc: 0.4916\n",
            "Epoch 43/50\n",
            "50000/50000 [==============================] - 9s 179us/step - loss: 0.6005 - acc: 0.8186 - val_loss: 1.6085 - val_acc: 0.4865\n",
            "Epoch 44/50\n",
            "50000/50000 [==============================] - 9s 180us/step - loss: 0.5833 - acc: 0.8269 - val_loss: 1.6262 - val_acc: 0.4909\n",
            "Epoch 45/50\n",
            "50000/50000 [==============================] - 9s 180us/step - loss: 0.5671 - acc: 0.8329 - val_loss: 1.6376 - val_acc: 0.4906\n",
            "Epoch 46/50\n",
            "50000/50000 [==============================] - 9s 181us/step - loss: 0.5490 - acc: 0.8402 - val_loss: 1.6316 - val_acc: 0.4862\n",
            "Epoch 47/50\n",
            "50000/50000 [==============================] - 9s 181us/step - loss: 0.5329 - acc: 0.8480 - val_loss: 1.6640 - val_acc: 0.4908\n",
            "Epoch 48/50\n",
            "50000/50000 [==============================] - 9s 182us/step - loss: 0.5143 - acc: 0.8547 - val_loss: 1.6741 - val_acc: 0.4887\n",
            "Epoch 49/50\n",
            "50000/50000 [==============================] - 9s 180us/step - loss: 0.4983 - acc: 0.8598 - val_loss: 1.6839 - val_acc: 0.4927\n",
            "Epoch 50/50\n",
            "50000/50000 [==============================] - 9s 180us/step - loss: 0.4834 - acc: 0.8649 - val_loss: 1.7034 - val_acc: 0.4906\n"
          ],
          "name": "stdout"
        }
      ]
    },
    {
      "cell_type": "code",
      "metadata": {
        "id": "vrA1CxwstRqO",
        "colab_type": "code",
        "outputId": "fabb6cb5-cb11-4a50-bdb4-b0a3773360b9",
        "colab": {
          "base_uri": "https://localhost:8080/",
          "height": 545
        }
      },
      "source": [
        "import matplotlib.pyplot as plt\n",
        "%matplotlib inline\n",
        "\"\"\"Code Here\n",
        "將結果繪出\n",
        "\"\"\"\n",
        "\n",
        "import matplotlib.pyplot as plt\n",
        "%matplotlib inline\n",
        "\n",
        "plt.plot(range(len(train_loss)), train_loss, label=\"train loss\")\n",
        "plt.plot(range(len(valid_loss)), valid_loss, label=\"valid loss\")\n",
        "plt.legend()\n",
        "plt.title(\"Loss\")\n",
        "plt.show()\n",
        "\n",
        "plt.plot(range(len(train_acc)), train_acc, label=\"train accuracy\")\n",
        "plt.plot(range(len(valid_acc)), valid_acc, label=\"valid accuracy\")\n",
        "plt.legend()\n",
        "plt.title(\"Accuracy\")\n",
        "plt.show()"
      ],
      "execution_count": 0,
      "outputs": [
        {
          "output_type": "display_data",
          "data": {
            "image/png": "[encoded data removed]",
            "text/plain": [
              "<Figure size 432x288 with 1 Axes>"
            ]
          },
          "metadata": {
            "tags": []
          }
        },
        {
          "output_type": "display_data",
          "data": {
            "image/png": "[encoded data removed]",
            "text/plain": [
              "<Figure size 432x288 with 1 Axes>"
            ]
          },
          "metadata": {
            "tags": []
          }
        }
      ]
    },
    {
      "cell_type": "code",
      "metadata": {
        "id": "RsUiZOUwkCy6",
        "colab_type": "code",
        "colab": {}
      },
      "source": [
        ""
      ],
      "execution_count": 0,
      "outputs": []
    }
  ]
}