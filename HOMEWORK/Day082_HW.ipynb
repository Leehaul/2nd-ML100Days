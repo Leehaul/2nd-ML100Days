{
  "nbformat": 4,
  "nbformat_minor": 0,
  "metadata": {
    "kernelspec": {
      "display_name": "Python 3",
      "language": "python",
      "name": "python3"
    },
    "language_info": {
      "codemirror_mode": {
        "name": "ipython",
        "version": 3
      },
      "file_extension": ".py",
      "mimetype": "text/x-python",
      "name": "python",
      "nbconvert_exporter": "python",
      "pygments_lexer": "ipython3",
      "version": "3.6.8"
    },
    "colab": {
      "name": "Day082_HW.ipynb",
      "provenance": [],
      "collapsed_sections": []
    }
  },
  "cells": [
    {
      "cell_type": "markdown",
      "metadata": {
        "id": "h_Hq4ocM8fOm",
        "colab_type": "text"
      },
      "source": [
        "## Work\n",
        "1. 請比較使用不同層數以及不同 Dropout rate 對訓練的效果\n",
        "2. 將 optimizer 改成使用 Adam 並加上適當的 dropout rate 檢視結果"
      ]
    },
    {
      "cell_type": "code",
      "metadata": {
        "id": "c6VD07jN8fO4",
        "colab_type": "code",
        "colab": {}
      },
      "source": [
        "import os\n",
        "import keras\n",
        "import itertools\n",
        "# Disable GPU\n",
        "os.environ[\"CUDA_VISIBLE_DEVICES\"] = \"\""
      ],
      "execution_count": 0,
      "outputs": []
    },
    {
      "cell_type": "code",
      "metadata": {
        "id": "s2AdMZAK8fPU",
        "colab_type": "code",
        "outputId": "2b49d74a-8c83-42d9-8609-8158c0d974c3",
        "colab": {
          "base_uri": "https://localhost:8080/",
          "height": 52
        }
      },
      "source": [
        "train, test = keras.datasets.cifar10.load_data()"
      ],
      "execution_count": 5,
      "outputs": [
        {
          "output_type": "stream",
          "text": [
            "Downloading data from https://www.cs.toronto.edu/~kriz/cifar-10-python.tar.gz\n",
            "170500096/170498071 [==============================] - 2s 0us/step\n"
          ],
          "name": "stdout"
        }
      ]
    },
    {
      "cell_type": "code",
      "metadata": {
        "id": "VLn92zPA8fQB",
        "colab_type": "code",
        "colab": {}
      },
      "source": [
        "## 資料前處理\n",
        "def preproc_x(x, flatten=True):\n",
        "    x = x / 255.\n",
        "    if flatten:\n",
        "        x = x.reshape((len(x), -1))\n",
        "    return x\n",
        "\n",
        "def preproc_y(y, num_classes=10):\n",
        "    if y.shape[-1] == 1:\n",
        "        y = keras.utils.to_categorical(y, num_classes)\n",
        "    return y    "
      ],
      "execution_count": 0,
      "outputs": []
    },
    {
      "cell_type": "code",
      "metadata": {
        "id": "lXOuus0g8fQF",
        "colab_type": "code",
        "colab": {}
      },
      "source": [
        "x_train, y_train = train\n",
        "x_test, y_test = test\n",
        "\n",
        "# Preproc the inputs\n",
        "x_train = preproc_x(x_train)\n",
        "x_test = preproc_x(x_test)\n",
        "\n",
        "# Preprc the outputs\n",
        "y_train = preproc_y(y_train)\n",
        "y_test = preproc_y(y_test)"
      ],
      "execution_count": 0,
      "outputs": []
    },
    {
      "cell_type": "code",
      "metadata": {
        "id": "06lJNkpg8fQK",
        "colab_type": "code",
        "colab": {}
      },
      "source": [
        "from keras.layers import Dropout\n",
        "\n",
        "\"\"\"\n",
        "建立神經網路，並加入 dropout layer\n",
        "\"\"\"\n",
        "def build_mlp(input_shape, output_units=10, num_neurons=[512, 256, 128], drp_ratio=0.2):\n",
        "    input_layer = keras.layers.Input(input_shape)\n",
        "    \n",
        "    for i, n_units in enumerate(num_neurons):\n",
        "        if i == 0:\n",
        "            x = keras.layers.Dense(units=n_units, \n",
        "                                   activation=\"relu\", \n",
        "                                   name=\"hidden_layer\"+str(i+1))(input_layer)\n",
        "            x = Dropout(drp_ratio)(x)\n",
        "        else:\n",
        "            x = keras.layers.Dense(units=n_units, \n",
        "                                   activation=\"relu\", \n",
        "                                   name=\"hidden_layer\"+str(i+1))(x)\n",
        "            x = Dropout(drp_ratio)(x)\n",
        "    \n",
        "    out = keras.layers.Dense(units=output_units, activation=\"softmax\", name=\"output\")(x)\n",
        "    \n",
        "    model = keras.models.Model(inputs=[input_layer], outputs=[out])\n",
        "    return model"
      ],
      "execution_count": 0,
      "outputs": []
    },
    {
      "cell_type": "code",
      "metadata": {
        "id": "o3W3iUZu8fQQ",
        "colab_type": "code",
        "colab": {}
      },
      "source": [
        "\"\"\"Code Here\n",
        "設定超參數\n",
        "\"\"\"\n",
        "## 超參數設定\n",
        "LEARNING_RATE = 1e-3\n",
        "EPOCHS = 50\n",
        "BATCH_SIZE = 256\n",
        "MOMENTUM = 0.95\n",
        "Dropout_EXP = 0.25"
      ],
      "execution_count": 0,
      "outputs": []
    },
    {
      "cell_type": "code",
      "metadata": {
        "scrolled": true,
        "id": "Zsel_Xc18fQT",
        "colab_type": "code",
        "colab": {
          "base_uri": "https://localhost:8080/",
          "height": 1000
        },
        "outputId": "d20bc34b-935b-4c79-81d7-eff844128a50"
      },
      "source": [
        "results = {}\n",
        "\"\"\"Code Here\n",
        "撰寫你的訓練流程並將結果用 dictionary 紀錄\n",
        "\"\"\"\n",
        "model = build_mlp(input_shape=x_train.shape[1:], drp_ratio=Dropout_EXP)\n",
        "model.summary()\n",
        "optimizer = keras.optimizers.SGD(lr=LEARNING_RATE, nesterov=True, momentum=MOMENTUM)\n",
        "model.compile(loss=\"categorical_crossentropy\", metrics=[\"accuracy\"], optimizer=optimizer)\n",
        "\n",
        "model.fit(x_train, y_train, \n",
        "          epochs=EPOCHS, \n",
        "          batch_size=BATCH_SIZE, \n",
        "          validation_data=(x_test, y_test), \n",
        "          shuffle=True)\n",
        "\n",
        "# Collect results\n",
        "train_loss = model.history.history[\"loss\"]\n",
        "valid_loss = model.history.history[\"val_loss\"]\n",
        "train_acc = model.history.history[\"acc\"]\n",
        "valid_acc = model.history.history[\"val_acc\"]"
      ],
      "execution_count": 10,
      "outputs": [
        {
          "output_type": "stream",
          "text": [
            "WARNING:tensorflow:From /usr/local/lib/python3.6/dist-packages/keras/backend/tensorflow_backend.py:66: The name tf.get_default_graph is deprecated. Please use tf.compat.v1.get_default_graph instead.\n",
            "\n",
            "WARNING:tensorflow:From /usr/local/lib/python3.6/dist-packages/keras/backend/tensorflow_backend.py:541: The name tf.placeholder is deprecated. Please use tf.compat.v1.placeholder instead.\n",
            "\n",
            "WARNING:tensorflow:From /usr/local/lib/python3.6/dist-packages/keras/backend/tensorflow_backend.py:4432: The name tf.random_uniform is deprecated. Please use tf.random.uniform instead.\n",
            "\n",
            "WARNING:tensorflow:From /usr/local/lib/python3.6/dist-packages/keras/backend/tensorflow_backend.py:148: The name tf.placeholder_with_default is deprecated. Please use tf.compat.v1.placeholder_with_default instead.\n",
            "\n",
            "WARNING:tensorflow:From /usr/local/lib/python3.6/dist-packages/keras/backend/tensorflow_backend.py:3733: calling dropout (from tensorflow.python.ops.nn_ops) with keep_prob is deprecated and will be removed in a future version.\n",
            "Instructions for updating:\n",
            "Please use `rate` instead of `keep_prob`. Rate should be set to `rate = 1 - keep_prob`.\n",
            "Model: \"model_1\"\n",
            "_________________________________________________________________\n",
            "Layer (type)                 Output Shape              Param #   \n",
            "=================================================================\n",
            "input_1 (InputLayer)         (None, 3072)              0         \n",
            "_________________________________________________________________\n",
            "hidden_layer1 (Dense)        (None, 512)               1573376   \n",
            "_________________________________________________________________\n",
            "dropout_1 (Dropout)          (None, 512)               0         \n",
            "_________________________________________________________________\n",
            "hidden_layer2 (Dense)        (None, 256)               131328    \n",
            "_________________________________________________________________\n",
            "dropout_2 (Dropout)          (None, 256)               0         \n",
            "_________________________________________________________________\n",
            "hidden_layer3 (Dense)        (None, 128)               32896     \n",
            "_________________________________________________________________\n",
            "dropout_3 (Dropout)          (None, 128)               0         \n",
            "_________________________________________________________________\n",
            "output (Dense)               (None, 10)                1290      \n",
            "=================================================================\n",
            "Total params: 1,738,890\n",
            "Trainable params: 1,738,890\n",
            "Non-trainable params: 0\n",
            "_________________________________________________________________\n",
            "WARNING:tensorflow:From /usr/local/lib/python3.6/dist-packages/keras/optimizers.py:793: The name tf.train.Optimizer is deprecated. Please use tf.compat.v1.train.Optimizer instead.\n",
            "\n",
            "WARNING:tensorflow:From /usr/local/lib/python3.6/dist-packages/keras/backend/tensorflow_backend.py:3576: The name tf.log is deprecated. Please use tf.math.log instead.\n",
            "\n",
            "WARNING:tensorflow:From /usr/local/lib/python3.6/dist-packages/tensorflow_core/python/ops/math_grad.py:1424: where (from tensorflow.python.ops.array_ops) is deprecated and will be removed in a future version.\n",
            "Instructions for updating:\n",
            "Use tf.where in 2.0, which has the same broadcast rule as np.where\n",
            "WARNING:tensorflow:From /usr/local/lib/python3.6/dist-packages/keras/backend/tensorflow_backend.py:1033: The name tf.assign_add is deprecated. Please use tf.compat.v1.assign_add instead.\n",
            "\n",
            "WARNING:tensorflow:From /usr/local/lib/python3.6/dist-packages/keras/backend/tensorflow_backend.py:1020: The name tf.assign is deprecated. Please use tf.compat.v1.assign instead.\n",
            "\n",
            "WARNING:tensorflow:From /usr/local/lib/python3.6/dist-packages/keras/backend/tensorflow_backend.py:3005: The name tf.Session is deprecated. Please use tf.compat.v1.Session instead.\n",
            "\n",
            "Train on 50000 samples, validate on 10000 samples\n",
            "Epoch 1/50\n",
            "WARNING:tensorflow:From /usr/local/lib/python3.6/dist-packages/keras/backend/tensorflow_backend.py:190: The name tf.get_default_session is deprecated. Please use tf.compat.v1.get_default_session instead.\n",
            "\n",
            "WARNING:tensorflow:From /usr/local/lib/python3.6/dist-packages/keras/backend/tensorflow_backend.py:197: The name tf.ConfigProto is deprecated. Please use tf.compat.v1.ConfigProto instead.\n",
            "\n",
            "WARNING:tensorflow:From /usr/local/lib/python3.6/dist-packages/keras/backend/tensorflow_backend.py:207: The name tf.global_variables is deprecated. Please use tf.compat.v1.global_variables instead.\n",
            "\n",
            "WARNING:tensorflow:From /usr/local/lib/python3.6/dist-packages/keras/backend/tensorflow_backend.py:216: The name tf.is_variable_initialized is deprecated. Please use tf.compat.v1.is_variable_initialized instead.\n",
            "\n",
            "WARNING:tensorflow:From /usr/local/lib/python3.6/dist-packages/keras/backend/tensorflow_backend.py:223: The name tf.variables_initializer is deprecated. Please use tf.compat.v1.variables_initializer instead.\n",
            "\n",
            "50000/50000 [==============================] - 14s 271us/step - loss: 2.1881 - acc: 0.1839 - val_loss: 1.9869 - val_acc: 0.2972\n",
            "Epoch 2/50\n",
            "50000/50000 [==============================] - 13s 254us/step - loss: 1.9984 - acc: 0.2703 - val_loss: 1.8708 - val_acc: 0.3411\n",
            "Epoch 3/50\n",
            "50000/50000 [==============================] - 13s 259us/step - loss: 1.9171 - acc: 0.3087 - val_loss: 1.8057 - val_acc: 0.3625\n",
            "Epoch 4/50\n",
            "50000/50000 [==============================] - 14s 278us/step - loss: 1.8591 - acc: 0.3297 - val_loss: 1.7522 - val_acc: 0.3834\n",
            "Epoch 5/50\n",
            "50000/50000 [==============================] - 13s 260us/step - loss: 1.8158 - acc: 0.3519 - val_loss: 1.7075 - val_acc: 0.3995\n",
            "Epoch 6/50\n",
            "50000/50000 [==============================] - 13s 269us/step - loss: 1.7757 - acc: 0.3635 - val_loss: 1.6744 - val_acc: 0.4058\n",
            "Epoch 7/50\n",
            "50000/50000 [==============================] - 14s 280us/step - loss: 1.7455 - acc: 0.3753 - val_loss: 1.6420 - val_acc: 0.4187\n",
            "Epoch 8/50\n",
            "50000/50000 [==============================] - 13s 269us/step - loss: 1.7234 - acc: 0.3867 - val_loss: 1.6256 - val_acc: 0.4282\n",
            "Epoch 9/50\n",
            "50000/50000 [==============================] - 13s 267us/step - loss: 1.6986 - acc: 0.3930 - val_loss: 1.5883 - val_acc: 0.4344\n",
            "Epoch 10/50\n",
            "50000/50000 [==============================] - 13s 252us/step - loss: 1.6736 - acc: 0.4037 - val_loss: 1.5741 - val_acc: 0.4378\n",
            "Epoch 11/50\n",
            "50000/50000 [==============================] - 13s 257us/step - loss: 1.6555 - acc: 0.4107 - val_loss: 1.5574 - val_acc: 0.4488\n",
            "Epoch 12/50\n",
            "50000/50000 [==============================] - 13s 266us/step - loss: 1.6377 - acc: 0.4199 - val_loss: 1.5388 - val_acc: 0.4497\n",
            "Epoch 13/50\n",
            "50000/50000 [==============================] - 13s 261us/step - loss: 1.6185 - acc: 0.4241 - val_loss: 1.5261 - val_acc: 0.4590\n",
            "Epoch 14/50\n",
            "50000/50000 [==============================] - 13s 270us/step - loss: 1.6065 - acc: 0.4285 - val_loss: 1.5092 - val_acc: 0.4618\n",
            "Epoch 15/50\n",
            "50000/50000 [==============================] - 13s 270us/step - loss: 1.5894 - acc: 0.4342 - val_loss: 1.5089 - val_acc: 0.4620\n",
            "Epoch 16/50\n",
            "50000/50000 [==============================] - 14s 275us/step - loss: 1.5779 - acc: 0.4403 - val_loss: 1.4936 - val_acc: 0.4645\n",
            "Epoch 17/50\n",
            "50000/50000 [==============================] - 14s 273us/step - loss: 1.5649 - acc: 0.4449 - val_loss: 1.4756 - val_acc: 0.4740\n",
            "Epoch 18/50\n",
            "50000/50000 [==============================] - 13s 258us/step - loss: 1.5480 - acc: 0.4479 - val_loss: 1.4667 - val_acc: 0.4768\n",
            "Epoch 19/50\n",
            "50000/50000 [==============================] - 14s 276us/step - loss: 1.5365 - acc: 0.4536 - val_loss: 1.4595 - val_acc: 0.4791\n",
            "Epoch 20/50\n",
            "50000/50000 [==============================] - 13s 259us/step - loss: 1.5251 - acc: 0.4602 - val_loss: 1.4527 - val_acc: 0.4836\n",
            "Epoch 21/50\n",
            "50000/50000 [==============================] - 13s 253us/step - loss: 1.5134 - acc: 0.4624 - val_loss: 1.4456 - val_acc: 0.4842\n",
            "Epoch 22/50\n",
            "50000/50000 [==============================] - 13s 257us/step - loss: 1.5018 - acc: 0.4675 - val_loss: 1.4393 - val_acc: 0.4844\n",
            "Epoch 23/50\n",
            "50000/50000 [==============================] - 13s 258us/step - loss: 1.4928 - acc: 0.4674 - val_loss: 1.4306 - val_acc: 0.4878\n",
            "Epoch 24/50\n",
            "50000/50000 [==============================] - 13s 251us/step - loss: 1.4808 - acc: 0.4733 - val_loss: 1.4161 - val_acc: 0.4926\n",
            "Epoch 25/50\n",
            "50000/50000 [==============================] - 12s 249us/step - loss: 1.4731 - acc: 0.4773 - val_loss: 1.4146 - val_acc: 0.4890\n",
            "Epoch 26/50\n",
            "50000/50000 [==============================] - 13s 262us/step - loss: 1.4644 - acc: 0.4776 - val_loss: 1.4086 - val_acc: 0.4968\n",
            "Epoch 27/50\n",
            "50000/50000 [==============================] - 13s 253us/step - loss: 1.4574 - acc: 0.4816 - val_loss: 1.3962 - val_acc: 0.5010\n",
            "Epoch 28/50\n",
            "50000/50000 [==============================] - 14s 278us/step - loss: 1.4453 - acc: 0.4859 - val_loss: 1.3929 - val_acc: 0.5045\n",
            "Epoch 29/50\n",
            "50000/50000 [==============================] - 13s 254us/step - loss: 1.4395 - acc: 0.4876 - val_loss: 1.3913 - val_acc: 0.4989\n",
            "Epoch 30/50\n",
            "50000/50000 [==============================] - 12s 249us/step - loss: 1.4300 - acc: 0.4918 - val_loss: 1.3774 - val_acc: 0.5053\n",
            "Epoch 31/50\n",
            "50000/50000 [==============================] - 12s 245us/step - loss: 1.4151 - acc: 0.4948 - val_loss: 1.3850 - val_acc: 0.5070\n",
            "Epoch 32/50\n",
            "50000/50000 [==============================] - 13s 250us/step - loss: 1.4102 - acc: 0.4971 - val_loss: 1.3687 - val_acc: 0.5092\n",
            "Epoch 33/50\n",
            "50000/50000 [==============================] - 13s 266us/step - loss: 1.4044 - acc: 0.4984 - val_loss: 1.3802 - val_acc: 0.5029\n",
            "Epoch 34/50\n",
            "50000/50000 [==============================] - 13s 260us/step - loss: 1.3991 - acc: 0.5022 - val_loss: 1.3657 - val_acc: 0.5075\n",
            "Epoch 35/50\n",
            "50000/50000 [==============================] - 13s 265us/step - loss: 1.3900 - acc: 0.5032 - val_loss: 1.3622 - val_acc: 0.5124\n",
            "Epoch 36/50\n",
            "50000/50000 [==============================] - 13s 257us/step - loss: 1.3804 - acc: 0.5068 - val_loss: 1.3528 - val_acc: 0.5147\n",
            "Epoch 37/50\n",
            "50000/50000 [==============================] - 12s 245us/step - loss: 1.3707 - acc: 0.5116 - val_loss: 1.3434 - val_acc: 0.5232\n",
            "Epoch 38/50\n",
            "50000/50000 [==============================] - 12s 241us/step - loss: 1.3646 - acc: 0.5137 - val_loss: 1.3496 - val_acc: 0.5163\n",
            "Epoch 39/50\n",
            "50000/50000 [==============================] - 12s 243us/step - loss: 1.3608 - acc: 0.5125 - val_loss: 1.3477 - val_acc: 0.5162\n",
            "Epoch 40/50\n",
            "50000/50000 [==============================] - 12s 245us/step - loss: 1.3519 - acc: 0.5196 - val_loss: 1.3442 - val_acc: 0.5199\n",
            "Epoch 41/50\n",
            "50000/50000 [==============================] - 13s 251us/step - loss: 1.3459 - acc: 0.5208 - val_loss: 1.3411 - val_acc: 0.5183\n",
            "Epoch 42/50\n",
            "50000/50000 [==============================] - 13s 260us/step - loss: 1.3384 - acc: 0.5199 - val_loss: 1.3308 - val_acc: 0.5225\n",
            "Epoch 43/50\n",
            "50000/50000 [==============================] - 13s 253us/step - loss: 1.3357 - acc: 0.5227 - val_loss: 1.3310 - val_acc: 0.5240\n",
            "Epoch 44/50\n",
            "50000/50000 [==============================] - 12s 242us/step - loss: 1.3208 - acc: 0.5309 - val_loss: 1.3353 - val_acc: 0.5221\n",
            "Epoch 45/50\n",
            "50000/50000 [==============================] - 13s 250us/step - loss: 1.3192 - acc: 0.5301 - val_loss: 1.3235 - val_acc: 0.5250\n",
            "Epoch 46/50\n",
            "50000/50000 [==============================] - 12s 247us/step - loss: 1.3127 - acc: 0.5320 - val_loss: 1.3217 - val_acc: 0.5273\n",
            "Epoch 47/50\n",
            "50000/50000 [==============================] - 13s 263us/step - loss: 1.3070 - acc: 0.5330 - val_loss: 1.3287 - val_acc: 0.5253\n",
            "Epoch 48/50\n",
            "50000/50000 [==============================] - 14s 274us/step - loss: 1.3037 - acc: 0.5333 - val_loss: 1.3168 - val_acc: 0.5258\n",
            "Epoch 49/50\n",
            "50000/50000 [==============================] - 13s 255us/step - loss: 1.2961 - acc: 0.5373 - val_loss: 1.3186 - val_acc: 0.5258\n",
            "Epoch 50/50\n",
            "50000/50000 [==============================] - 14s 277us/step - loss: 1.2896 - acc: 0.5395 - val_loss: 1.3058 - val_acc: 0.5289\n"
          ],
          "name": "stdout"
        }
      ]
    },
    {
      "cell_type": "code",
      "metadata": {
        "id": "nCI1E0xi8fQX",
        "colab_type": "code",
        "colab": {
          "base_uri": "https://localhost:8080/",
          "height": 545
        },
        "outputId": "4b3d37a8-3a7f-4d0a-ec03-002827769d13"
      },
      "source": [
        "import matplotlib.pyplot as plt\n",
        "%matplotlib inline\n",
        "\"\"\"Code Here\n",
        "將結果繪出\n",
        "\"\"\"\n",
        "\n",
        "import matplotlib.pyplot as plt\n",
        "%matplotlib inline\n",
        "\n",
        "plt.plot(range(len(train_loss)), train_loss, label=\"train loss\")\n",
        "plt.plot(range(len(valid_loss)), valid_loss, label=\"valid loss\")\n",
        "plt.legend()\n",
        "plt.title(\"Loss\")\n",
        "plt.show()\n",
        "\n",
        "plt.plot(range(len(train_acc)), train_acc, label=\"train accuracy\")\n",
        "plt.plot(range(len(valid_acc)), valid_acc, label=\"valid accuracy\")\n",
        "plt.legend()\n",
        "plt.title(\"Accuracy\")\n",
        "plt.show()"
      ],
      "execution_count": 11,
      "outputs": [
        {
          "output_type": "display_data",
          "data": {
            "image/png": "[encoded data removed]",
            "text/plain": [
              "<Figure size 432x288 with 1 Axes>"
            ]
          },
          "metadata": {
            "tags": []
          }
        },
        {
          "output_type": "display_data",
          "data": {
            "image/png": "[encoded data removed]",
            "text/plain": [
              "<Figure size 432x288 with 1 Axes>"
            ]
          },
          "metadata": {
            "tags": []
          }
        }
      ]
    },
    {
      "cell_type": "code",
      "metadata": {
        "id": "use1VOP38fQb",
        "colab_type": "code",
        "colab": {}
      },
      "source": [
        ""
      ],
      "execution_count": 0,
      "outputs": []
    },
    {
      "cell_type": "code",
      "metadata": {
        "id": "cqWtMu9U8fQe",
        "colab_type": "code",
        "colab": {}
      },
      "source": [
        "from keras.layers import Dropout\n",
        "\n",
        "\"\"\"\n",
        "建立神經網路，並加入 dropout layer\n",
        "\"\"\"\n",
        "def build_mlp(input_shape, output_units=10, num_neurons=[512, 256, 128], drp_ratio=0.2):\n",
        "    input_layer = keras.layers.Input(input_shape)\n",
        "    \n",
        "    for i, n_units in enumerate(num_neurons):\n",
        "        if i == 0:\n",
        "            x = keras.layers.Dense(units=n_units, \n",
        "                                   activation=\"relu\", \n",
        "                                   name=\"hidden_layer\"+str(i+1))(input_layer)\n",
        "            x = Dropout(drp_ratio)(x)\n",
        "        else:\n",
        "            x = keras.layers.Dense(units=n_units, \n",
        "                                   activation=\"relu\", \n",
        "                                   name=\"hidden_layer\"+str(i+1))(x)\n",
        "            x = Dropout(drp_ratio)(x)\n",
        "    \n",
        "    out = keras.layers.Dense(units=output_units, activation=\"softmax\", name=\"output\")(x)\n",
        "    \n",
        "    model = keras.models.Model(inputs=[input_layer], outputs=[out])\n",
        "    return model"
      ],
      "execution_count": 0,
      "outputs": []
    },
    {
      "cell_type": "code",
      "metadata": {
        "id": "5dcPIBCB8fQh",
        "colab_type": "code",
        "colab": {}
      },
      "source": [
        "\"\"\"Code Here\n",
        "設定超參數\n",
        "\"\"\"\n",
        "## 超參數設定\n",
        "LEARNING_RATE = 1e-3\n",
        "EPOCHS = 50\n",
        "BATCH_SIZE = 256\n",
        "MOMENTUM = 0.95\n",
        "Dropout_EXP = 0.25"
      ],
      "execution_count": 0,
      "outputs": []
    },
    {
      "cell_type": "code",
      "metadata": {
        "id": "ZrM3yGuq8fQk",
        "colab_type": "code",
        "outputId": "6989a0b6-1a44-4f7d-aca1-306d892c552d",
        "colab": {
          "base_uri": "https://localhost:8080/",
          "height": 1000
        }
      },
      "source": [
        "results = {}\n",
        "\"\"\"Code Here\n",
        "撰寫你的訓練流程並將結果用 dictionary 紀錄\n",
        "\"\"\"\n",
        "model = build_mlp(input_shape=x_train.shape[1:], drp_ratio=Dropout_EXP)\n",
        "model.summary()\n",
        "optimizer = keras.optimizers.Adam(lr=LEARNING_RATE)#, nesterov=True, momentum=MOMENTUM)\n",
        "model.compile(loss=\"categorical_crossentropy\", metrics=[\"accuracy\"], optimizer=optimizer)\n",
        "\n",
        "model.fit(x_train, y_train, \n",
        "          epochs=EPOCHS, \n",
        "          batch_size=BATCH_SIZE, \n",
        "          validation_data=(x_test, y_test), \n",
        "          shuffle=True)\n",
        "\n",
        "# Collect results\n",
        "train_loss = model.history.history[\"loss\"]\n",
        "valid_loss = model.history.history[\"val_loss\"]\n",
        "train_acc = model.history.history[\"acc\"]\n",
        "valid_acc = model.history.history[\"val_acc\"]"
      ],
      "execution_count": 14,
      "outputs": [
        {
          "output_type": "stream",
          "text": [
            "Model: \"model_2\"\n",
            "_________________________________________________________________\n",
            "Layer (type)                 Output Shape              Param #   \n",
            "=================================================================\n",
            "input_2 (InputLayer)         (None, 3072)              0         \n",
            "_________________________________________________________________\n",
            "hidden_layer1 (Dense)        (None, 512)               1573376   \n",
            "_________________________________________________________________\n",
            "dropout_4 (Dropout)          (None, 512)               0         \n",
            "_________________________________________________________________\n",
            "hidden_layer2 (Dense)        (None, 256)               131328    \n",
            "_________________________________________________________________\n",
            "dropout_5 (Dropout)          (None, 256)               0         \n",
            "_________________________________________________________________\n",
            "hidden_layer3 (Dense)        (None, 128)               32896     \n",
            "_________________________________________________________________\n",
            "dropout_6 (Dropout)          (None, 128)               0         \n",
            "_________________________________________________________________\n",
            "output (Dense)               (None, 10)                1290      \n",
            "=================================================================\n",
            "Total params: 1,738,890\n",
            "Trainable params: 1,738,890\n",
            "Non-trainable params: 0\n",
            "_________________________________________________________________\n",
            "Train on 50000 samples, validate on 10000 samples\n",
            "Epoch 1/50\n",
            "50000/50000 [==============================] - 17s 331us/step - loss: 2.0603 - acc: 0.2361 - val_loss: 1.8387 - val_acc: 0.3510\n",
            "Epoch 2/50\n",
            "50000/50000 [==============================] - 15s 303us/step - loss: 1.8854 - acc: 0.3104 - val_loss: 1.7771 - val_acc: 0.3518\n",
            "Epoch 3/50\n",
            "50000/50000 [==============================] - 15s 296us/step - loss: 1.8235 - acc: 0.3369 - val_loss: 1.7545 - val_acc: 0.3716\n",
            "Epoch 4/50\n",
            "50000/50000 [==============================] - 14s 276us/step - loss: 1.7933 - acc: 0.3479 - val_loss: 1.6817 - val_acc: 0.3996\n",
            "Epoch 5/50\n",
            "50000/50000 [==============================] - 14s 274us/step - loss: 1.7553 - acc: 0.3632 - val_loss: 1.6719 - val_acc: 0.4048\n",
            "Epoch 6/50\n",
            "50000/50000 [==============================] - 15s 292us/step - loss: 1.7500 - acc: 0.3648 - val_loss: 1.6593 - val_acc: 0.4128\n",
            "Epoch 7/50\n",
            "50000/50000 [==============================] - 14s 284us/step - loss: 1.7264 - acc: 0.3743 - val_loss: 1.6421 - val_acc: 0.4211\n",
            "Epoch 8/50\n",
            "50000/50000 [==============================] - 16s 326us/step - loss: 1.7071 - acc: 0.3809 - val_loss: 1.6363 - val_acc: 0.4239\n",
            "Epoch 9/50\n",
            "50000/50000 [==============================] - 17s 339us/step - loss: 1.6954 - acc: 0.3855 - val_loss: 1.6335 - val_acc: 0.4216\n",
            "Epoch 10/50\n",
            "50000/50000 [==============================] - 16s 315us/step - loss: 1.6832 - acc: 0.3914 - val_loss: 1.6523 - val_acc: 0.4153\n",
            "Epoch 11/50\n",
            "50000/50000 [==============================] - 15s 303us/step - loss: 1.6747 - acc: 0.3951 - val_loss: 1.5925 - val_acc: 0.4320\n",
            "Epoch 12/50\n",
            "50000/50000 [==============================] - 15s 299us/step - loss: 1.6611 - acc: 0.3993 - val_loss: 1.5838 - val_acc: 0.4380\n",
            "Epoch 13/50\n",
            "50000/50000 [==============================] - 15s 304us/step - loss: 1.6498 - acc: 0.4042 - val_loss: 1.5803 - val_acc: 0.4438\n",
            "Epoch 14/50\n",
            "50000/50000 [==============================] - 16s 312us/step - loss: 1.6575 - acc: 0.3995 - val_loss: 1.6071 - val_acc: 0.4329\n",
            "Epoch 15/50\n",
            "50000/50000 [==============================] - 15s 298us/step - loss: 1.6344 - acc: 0.4071 - val_loss: 1.5731 - val_acc: 0.4398\n",
            "Epoch 16/50\n",
            "50000/50000 [==============================] - 14s 289us/step - loss: 1.6311 - acc: 0.4101 - val_loss: 1.5626 - val_acc: 0.4541\n",
            "Epoch 17/50\n",
            "50000/50000 [==============================] - 15s 299us/step - loss: 1.6244 - acc: 0.4125 - val_loss: 1.5712 - val_acc: 0.4477\n",
            "Epoch 18/50\n",
            "50000/50000 [==============================] - 14s 282us/step - loss: 1.6209 - acc: 0.4159 - val_loss: 1.5275 - val_acc: 0.4597\n",
            "Epoch 19/50\n",
            "50000/50000 [==============================] - 14s 283us/step - loss: 1.6100 - acc: 0.4172 - val_loss: 1.5532 - val_acc: 0.4449\n",
            "Epoch 20/50\n",
            "50000/50000 [==============================] - 15s 291us/step - loss: 1.6032 - acc: 0.4222 - val_loss: 1.5436 - val_acc: 0.4550\n",
            "Epoch 21/50\n",
            "50000/50000 [==============================] - 15s 307us/step - loss: 1.5963 - acc: 0.4240 - val_loss: 1.5288 - val_acc: 0.4532\n",
            "Epoch 22/50\n",
            "50000/50000 [==============================] - 14s 285us/step - loss: 1.5884 - acc: 0.4254 - val_loss: 1.5545 - val_acc: 0.4448\n",
            "Epoch 23/50\n",
            "50000/50000 [==============================] - 14s 281us/step - loss: 1.5854 - acc: 0.4282 - val_loss: 1.5420 - val_acc: 0.4517\n",
            "Epoch 24/50\n",
            "50000/50000 [==============================] - 15s 297us/step - loss: 1.5930 - acc: 0.4233 - val_loss: 1.5429 - val_acc: 0.4555\n",
            "Epoch 25/50\n",
            "50000/50000 [==============================] - 16s 323us/step - loss: 1.5800 - acc: 0.4295 - val_loss: 1.5052 - val_acc: 0.4637\n",
            "Epoch 26/50\n",
            "50000/50000 [==============================] - 16s 316us/step - loss: 1.5703 - acc: 0.4326 - val_loss: 1.4972 - val_acc: 0.4660\n",
            "Epoch 27/50\n",
            "50000/50000 [==============================] - 16s 311us/step - loss: 1.5633 - acc: 0.4337 - val_loss: 1.5051 - val_acc: 0.4683\n",
            "Epoch 28/50\n",
            "50000/50000 [==============================] - 15s 308us/step - loss: 1.5563 - acc: 0.4384 - val_loss: 1.5045 - val_acc: 0.4623\n",
            "Epoch 29/50\n",
            "50000/50000 [==============================] - 15s 301us/step - loss: 1.5639 - acc: 0.4381 - val_loss: 1.5250 - val_acc: 0.4527\n",
            "Epoch 30/50\n",
            "50000/50000 [==============================] - 15s 299us/step - loss: 1.5515 - acc: 0.4395 - val_loss: 1.4918 - val_acc: 0.4711\n",
            "Epoch 31/50\n",
            "50000/50000 [==============================] - 15s 290us/step - loss: 1.5507 - acc: 0.4405 - val_loss: 1.4923 - val_acc: 0.4658\n",
            "Epoch 32/50\n",
            "50000/50000 [==============================] - 15s 296us/step - loss: 1.5425 - acc: 0.4436 - val_loss: 1.4990 - val_acc: 0.4742\n",
            "Epoch 33/50\n",
            "50000/50000 [==============================] - 16s 311us/step - loss: 1.5425 - acc: 0.4425 - val_loss: 1.5126 - val_acc: 0.4622\n",
            "Epoch 34/50\n",
            "50000/50000 [==============================] - 15s 300us/step - loss: 1.5392 - acc: 0.4421 - val_loss: 1.4647 - val_acc: 0.4714\n",
            "Epoch 35/50\n",
            "50000/50000 [==============================] - 16s 316us/step - loss: 1.5343 - acc: 0.4465 - val_loss: 1.4774 - val_acc: 0.4740\n",
            "Epoch 36/50\n",
            "50000/50000 [==============================] - 16s 317us/step - loss: 1.5376 - acc: 0.4448 - val_loss: 1.4870 - val_acc: 0.4735\n",
            "Epoch 37/50\n",
            "50000/50000 [==============================] - 15s 310us/step - loss: 1.5261 - acc: 0.4491 - val_loss: 1.4858 - val_acc: 0.4714\n",
            "Epoch 38/50\n",
            "50000/50000 [==============================] - 15s 306us/step - loss: 1.5238 - acc: 0.4502 - val_loss: 1.4668 - val_acc: 0.4762\n",
            "Epoch 39/50\n",
            "50000/50000 [==============================] - 15s 292us/step - loss: 1.5251 - acc: 0.4502 - val_loss: 1.4748 - val_acc: 0.4718\n",
            "Epoch 40/50\n",
            "50000/50000 [==============================] - 15s 292us/step - loss: 1.5103 - acc: 0.4551 - val_loss: 1.4628 - val_acc: 0.4796\n",
            "Epoch 41/50\n",
            "50000/50000 [==============================] - 14s 288us/step - loss: 1.5169 - acc: 0.4537 - val_loss: 1.4928 - val_acc: 0.4694\n",
            "Epoch 42/50\n",
            "50000/50000 [==============================] - 15s 294us/step - loss: 1.5111 - acc: 0.4539 - val_loss: 1.4880 - val_acc: 0.4765\n",
            "Epoch 43/50\n",
            "50000/50000 [==============================] - 15s 296us/step - loss: 1.5055 - acc: 0.4556 - val_loss: 1.4903 - val_acc: 0.4666\n",
            "Epoch 44/50\n",
            "50000/50000 [==============================] - 15s 304us/step - loss: 1.5167 - acc: 0.4508 - val_loss: 1.4922 - val_acc: 0.4674\n",
            "Epoch 45/50\n",
            "50000/50000 [==============================] - 16s 316us/step - loss: 1.5061 - acc: 0.4585 - val_loss: 1.4472 - val_acc: 0.4863\n",
            "Epoch 46/50\n",
            "50000/50000 [==============================] - 15s 300us/step - loss: 1.5016 - acc: 0.4588 - val_loss: 1.4513 - val_acc: 0.4869\n",
            "Epoch 47/50\n",
            "50000/50000 [==============================] - 15s 296us/step - loss: 1.5009 - acc: 0.4570 - val_loss: 1.4731 - val_acc: 0.4679\n",
            "Epoch 48/50\n",
            "50000/50000 [==============================] - 15s 294us/step - loss: 1.5008 - acc: 0.4594 - val_loss: 1.4662 - val_acc: 0.4819\n",
            "Epoch 49/50\n",
            "50000/50000 [==============================] - 15s 293us/step - loss: 1.4997 - acc: 0.4587 - val_loss: 1.4519 - val_acc: 0.4881\n",
            "Epoch 50/50\n",
            "50000/50000 [==============================] - 15s 291us/step - loss: 1.4988 - acc: 0.4547 - val_loss: 1.4700 - val_acc: 0.4800\n"
          ],
          "name": "stdout"
        }
      ]
    },
    {
      "cell_type": "code",
      "metadata": {
        "id": "RnX6TXz18fQp",
        "colab_type": "code",
        "colab": {
          "base_uri": "https://localhost:8080/",
          "height": 545
        },
        "outputId": "45821676-a3f6-4f15-8d2a-b3ff5a33a905"
      },
      "source": [
        "import matplotlib.pyplot as plt\n",
        "%matplotlib inline\n",
        "\"\"\"Code Here\n",
        "將結果繪出\n",
        "\"\"\"\n",
        "\n",
        "import matplotlib.pyplot as plt\n",
        "%matplotlib inline\n",
        "\n",
        "plt.plot(range(len(train_loss)), train_loss, label=\"train loss\")\n",
        "plt.plot(range(len(valid_loss)), valid_loss, label=\"valid loss\")\n",
        "plt.legend()\n",
        "plt.title(\"Loss\")\n",
        "plt.show()\n",
        "\n",
        "plt.plot(range(len(train_acc)), train_acc, label=\"train accuracy\")\n",
        "plt.plot(range(len(valid_acc)), valid_acc, label=\"valid accuracy\")\n",
        "plt.legend()\n",
        "plt.title(\"Accuracy\")\n",
        "plt.show()"
      ],
      "execution_count": 15,
      "outputs": [
        {
          "output_type": "display_data",
          "data": {
            "image/png": "[encoded data removed]",
            "text/plain": [
              "<Figure size 432x288 with 1 Axes>"
            ]
          },
          "metadata": {
            "tags": []
          }
        },
        {
          "output_type": "display_data",
          "data": {
            "image/png": "[encoded data removed]",
            "text/plain": [
              "<Figure size 432x288 with 1 Axes>"
            ]
          },
          "metadata": {
            "tags": []
          }
        }
      ]
    },
    {
      "cell_type": "code",
      "metadata": {
        "id": "AcRfFW608fQr",
        "colab_type": "code",
        "colab": {}
      },
      "source": [
        ""
      ],
      "execution_count": 0,
      "outputs": []
    },
    {
      "cell_type": "code",
      "metadata": {
        "id": "U8fUYDoB8fQu",
        "colab_type": "code",
        "colab": {}
      },
      "source": [
        "from keras.layers import Dropout\n",
        "\n",
        "\"\"\"\n",
        "建立神經網路，並加入 dropout layer\n",
        "\"\"\"\n",
        "def build_mlp(input_shape, output_units=10, num_neurons=[512, 256, 128], drp_ratio=0.2):\n",
        "    input_layer = keras.layers.Input(input_shape)\n",
        "    \n",
        "    for i, n_units in enumerate(num_neurons):\n",
        "        if i == 0:\n",
        "            x = keras.layers.Dense(units=n_units, \n",
        "                                   activation=\"relu\", \n",
        "                                   name=\"hidden_layer\"+str(i+1))(input_layer)\n",
        "            x = Dropout(drp_ratio)(x)\n",
        "        else:\n",
        "            x = keras.layers.Dense(units=n_units, \n",
        "                                   activation=\"relu\", \n",
        "                                   name=\"hidden_layer\"+str(i+1))(x)\n",
        "            x = Dropout(drp_ratio)(x)\n",
        "    \n",
        "    out = keras.layers.Dense(units=output_units, activation=\"softmax\", name=\"output\")(x)\n",
        "    \n",
        "    model = keras.models.Model(inputs=[input_layer], outputs=[out])\n",
        "    return model"
      ],
      "execution_count": 0,
      "outputs": []
    },
    {
      "cell_type": "code",
      "metadata": {
        "id": "VeH9QZPK8fQw",
        "colab_type": "code",
        "colab": {}
      },
      "source": [
        "\"\"\"Code Here\n",
        "設定超參數\n",
        "\"\"\"\n",
        "## 超參數設定\n",
        "LEARNING_RATE = 1e-3\n",
        "EPOCHS = 50\n",
        "BATCH_SIZE = 256\n",
        "MOMENTUM = 0.95\n",
        "Dropout_EXP = 0.5"
      ],
      "execution_count": 0,
      "outputs": []
    },
    {
      "cell_type": "code",
      "metadata": {
        "id": "E0NsO0Zd8fQz",
        "colab_type": "code",
        "colab": {
          "base_uri": "https://localhost:8080/",
          "height": 1000
        },
        "outputId": "4d90195b-a554-48c1-caea-135428629c7b"
      },
      "source": [
        "results = {}\n",
        "\"\"\"Code Here\n",
        "撰寫你的訓練流程並將結果用 dictionary 紀錄\n",
        "\"\"\"\n",
        "model = build_mlp(input_shape=x_train.shape[1:], drp_ratio=Dropout_EXP)\n",
        "model.summary()\n",
        "optimizer = keras.optimizers.Adam(lr=LEARNING_RATE)#, nesterov=True, momentum=MOMENTUM)\n",
        "model.compile(loss=\"categorical_crossentropy\", metrics=[\"accuracy\"], optimizer=optimizer)\n",
        "\n",
        "model.fit(x_train, y_train, \n",
        "          epochs=EPOCHS, \n",
        "          batch_size=BATCH_SIZE, \n",
        "          validation_data=(x_test, y_test), \n",
        "          shuffle=True)\n",
        "\n",
        "# Collect results\n",
        "train_loss = model.history.history[\"loss\"]\n",
        "valid_loss = model.history.history[\"val_loss\"]\n",
        "train_acc = model.history.history[\"acc\"]\n",
        "valid_acc = model.history.history[\"val_acc\"]"
      ],
      "execution_count": 18,
      "outputs": [
        {
          "output_type": "stream",
          "text": [
            "Model: \"model_3\"\n",
            "_________________________________________________________________\n",
            "Layer (type)                 Output Shape              Param #   \n",
            "=================================================================\n",
            "input_3 (InputLayer)         (None, 3072)              0         \n",
            "_________________________________________________________________\n",
            "hidden_layer1 (Dense)        (None, 512)               1573376   \n",
            "_________________________________________________________________\n",
            "dropout_7 (Dropout)          (None, 512)               0         \n",
            "_________________________________________________________________\n",
            "hidden_layer2 (Dense)        (None, 256)               131328    \n",
            "_________________________________________________________________\n",
            "dropout_8 (Dropout)          (None, 256)               0         \n",
            "_________________________________________________________________\n",
            "hidden_layer3 (Dense)        (None, 128)               32896     \n",
            "_________________________________________________________________\n",
            "dropout_9 (Dropout)          (None, 128)               0         \n",
            "_________________________________________________________________\n",
            "output (Dense)               (None, 10)                1290      \n",
            "=================================================================\n",
            "Total params: 1,738,890\n",
            "Trainable params: 1,738,890\n",
            "Non-trainable params: 0\n",
            "_________________________________________________________________\n",
            "Train on 50000 samples, validate on 10000 samples\n",
            "Epoch 1/50\n",
            "50000/50000 [==============================] - 16s 317us/step - loss: 2.2244 - acc: 0.1494 - val_loss: 2.0786 - val_acc: 0.2325\n",
            "Epoch 2/50\n",
            "50000/50000 [==============================] - 16s 317us/step - loss: 2.1290 - acc: 0.1732 - val_loss: 2.0358 - val_acc: 0.2215\n",
            "Epoch 3/50\n",
            "50000/50000 [==============================] - 15s 305us/step - loss: 2.1102 - acc: 0.1800 - val_loss: 2.0232 - val_acc: 0.2311\n",
            "Epoch 4/50\n",
            "50000/50000 [==============================] - 15s 297us/step - loss: 2.1039 - acc: 0.1818 - val_loss: 2.0491 - val_acc: 0.2402\n",
            "Epoch 5/50\n",
            "50000/50000 [==============================] - 15s 294us/step - loss: 2.0945 - acc: 0.1866 - val_loss: 2.0362 - val_acc: 0.2242\n",
            "Epoch 6/50\n",
            "50000/50000 [==============================] - 15s 306us/step - loss: 2.0814 - acc: 0.1922 - val_loss: 2.0371 - val_acc: 0.2421\n",
            "Epoch 7/50\n",
            "50000/50000 [==============================] - 16s 322us/step - loss: 2.0773 - acc: 0.1948 - val_loss: 2.0451 - val_acc: 0.2066\n",
            "Epoch 8/50\n",
            "50000/50000 [==============================] - 16s 321us/step - loss: 2.0675 - acc: 0.1992 - val_loss: 1.9935 - val_acc: 0.2438\n",
            "Epoch 9/50\n",
            "50000/50000 [==============================] - 16s 318us/step - loss: 2.0563 - acc: 0.2041 - val_loss: 2.0086 - val_acc: 0.2333\n",
            "Epoch 10/50\n",
            "50000/50000 [==============================] - 16s 319us/step - loss: 2.0548 - acc: 0.2060 - val_loss: 2.0193 - val_acc: 0.2408\n",
            "Epoch 11/50\n",
            "50000/50000 [==============================] - 16s 314us/step - loss: 2.0484 - acc: 0.2069 - val_loss: 2.0030 - val_acc: 0.2642\n",
            "Epoch 12/50\n",
            "50000/50000 [==============================] - 14s 287us/step - loss: 2.0422 - acc: 0.2133 - val_loss: 2.0191 - val_acc: 0.2212\n",
            "Epoch 13/50\n",
            "50000/50000 [==============================] - 15s 297us/step - loss: 2.0416 - acc: 0.2162 - val_loss: 2.0149 - val_acc: 0.2384\n",
            "Epoch 14/50\n",
            "50000/50000 [==============================] - 15s 301us/step - loss: 2.0363 - acc: 0.2160 - val_loss: 2.0141 - val_acc: 0.2573\n",
            "Epoch 15/50\n",
            "50000/50000 [==============================] - 15s 308us/step - loss: 2.0360 - acc: 0.2174 - val_loss: 2.0835 - val_acc: 0.2231\n",
            "Epoch 16/50\n",
            "50000/50000 [==============================] - 15s 309us/step - loss: 2.0294 - acc: 0.2215 - val_loss: 2.0316 - val_acc: 0.2263\n",
            "Epoch 17/50\n",
            "50000/50000 [==============================] - 15s 296us/step - loss: 2.0244 - acc: 0.2254 - val_loss: 2.0593 - val_acc: 0.2347\n",
            "Epoch 18/50\n",
            "50000/50000 [==============================] - 15s 295us/step - loss: 2.0159 - acc: 0.2332 - val_loss: 2.0336 - val_acc: 0.2676\n",
            "Epoch 19/50\n",
            "50000/50000 [==============================] - 15s 293us/step - loss: 2.0102 - acc: 0.2338 - val_loss: 2.0721 - val_acc: 0.2283\n",
            "Epoch 20/50\n",
            "50000/50000 [==============================] - 14s 279us/step - loss: 2.0085 - acc: 0.2346 - val_loss: 2.1114 - val_acc: 0.2340\n",
            "Epoch 21/50\n",
            "50000/50000 [==============================] - 14s 286us/step - loss: 2.0060 - acc: 0.2353 - val_loss: 2.0875 - val_acc: 0.2277\n",
            "Epoch 22/50\n",
            "50000/50000 [==============================] - 15s 306us/step - loss: 2.0097 - acc: 0.2347 - val_loss: 2.0898 - val_acc: 0.2319\n",
            "Epoch 23/50\n",
            "50000/50000 [==============================] - 15s 299us/step - loss: 2.0013 - acc: 0.2406 - val_loss: 2.0271 - val_acc: 0.2428\n",
            "Epoch 24/50\n",
            "50000/50000 [==============================] - 14s 285us/step - loss: 2.0002 - acc: 0.2399 - val_loss: 2.1235 - val_acc: 0.2279\n",
            "Epoch 25/50\n",
            "50000/50000 [==============================] - 14s 276us/step - loss: 1.9983 - acc: 0.2397 - val_loss: 2.1539 - val_acc: 0.1971\n",
            "Epoch 26/50\n",
            "50000/50000 [==============================] - 15s 298us/step - loss: 1.9935 - acc: 0.2383 - val_loss: 2.0622 - val_acc: 0.2313\n",
            "Epoch 27/50\n",
            "50000/50000 [==============================] - 15s 299us/step - loss: 1.9963 - acc: 0.2376 - val_loss: 2.0992 - val_acc: 0.2160\n",
            "Epoch 28/50\n",
            "50000/50000 [==============================] - 14s 281us/step - loss: 1.9941 - acc: 0.2413 - val_loss: 2.0709 - val_acc: 0.2260\n",
            "Epoch 29/50\n",
            "50000/50000 [==============================] - 14s 277us/step - loss: 1.9908 - acc: 0.2485 - val_loss: 2.1079 - val_acc: 0.2200\n",
            "Epoch 30/50\n",
            "50000/50000 [==============================] - 15s 298us/step - loss: 1.9908 - acc: 0.2420 - val_loss: 2.0707 - val_acc: 0.2270\n",
            "Epoch 31/50\n",
            "50000/50000 [==============================] - 15s 302us/step - loss: 1.9908 - acc: 0.2461 - val_loss: 2.1617 - val_acc: 0.2026\n",
            "Epoch 32/50\n",
            "50000/50000 [==============================] - 15s 294us/step - loss: 1.9883 - acc: 0.2460 - val_loss: 2.2000 - val_acc: 0.1863\n",
            "Epoch 33/50\n",
            "50000/50000 [==============================] - 14s 279us/step - loss: 1.9878 - acc: 0.2440 - val_loss: 2.0988 - val_acc: 0.2129\n",
            "Epoch 34/50\n",
            "50000/50000 [==============================] - 14s 282us/step - loss: 1.9897 - acc: 0.2459 - val_loss: 2.0823 - val_acc: 0.2355\n",
            "Epoch 35/50\n",
            "50000/50000 [==============================] - 14s 283us/step - loss: 1.9920 - acc: 0.2460 - val_loss: 2.1270 - val_acc: 0.2292\n",
            "Epoch 36/50\n",
            "50000/50000 [==============================] - 14s 282us/step - loss: 1.9891 - acc: 0.2436 - val_loss: 2.1203 - val_acc: 0.2120\n",
            "Epoch 37/50\n",
            "50000/50000 [==============================] - 14s 281us/step - loss: 1.9901 - acc: 0.2480 - val_loss: 2.0800 - val_acc: 0.2130\n",
            "Epoch 38/50\n",
            "50000/50000 [==============================] - 14s 281us/step - loss: 1.9909 - acc: 0.2473 - val_loss: 2.1146 - val_acc: 0.2220\n",
            "Epoch 39/50\n",
            "50000/50000 [==============================] - 14s 286us/step - loss: 1.9885 - acc: 0.2486 - val_loss: 2.0440 - val_acc: 0.2288\n",
            "Epoch 40/50\n",
            "50000/50000 [==============================] - 15s 292us/step - loss: 1.9914 - acc: 0.2460 - val_loss: 2.0424 - val_acc: 0.2460\n",
            "Epoch 41/50\n",
            "50000/50000 [==============================] - 15s 305us/step - loss: 1.9898 - acc: 0.2473 - val_loss: 2.0765 - val_acc: 0.2173\n",
            "Epoch 42/50\n",
            "50000/50000 [==============================] - 15s 294us/step - loss: 1.9821 - acc: 0.2513 - val_loss: 2.1140 - val_acc: 0.2114\n",
            "Epoch 43/50\n",
            "50000/50000 [==============================] - 14s 280us/step - loss: 1.9865 - acc: 0.2492 - val_loss: 2.0022 - val_acc: 0.2507\n",
            "Epoch 44/50\n",
            "50000/50000 [==============================] - 14s 284us/step - loss: 1.9871 - acc: 0.2468 - val_loss: 2.1717 - val_acc: 0.2023\n",
            "Epoch 45/50\n",
            "50000/50000 [==============================] - 14s 280us/step - loss: 1.9803 - acc: 0.2513 - val_loss: 2.0994 - val_acc: 0.2168\n",
            "Epoch 46/50\n",
            "50000/50000 [==============================] - 14s 281us/step - loss: 1.9834 - acc: 0.2512 - val_loss: 2.1570 - val_acc: 0.2031\n",
            "Epoch 47/50\n",
            "50000/50000 [==============================] - 14s 283us/step - loss: 1.9787 - acc: 0.2519 - val_loss: 2.1593 - val_acc: 0.2040\n",
            "Epoch 48/50\n",
            "50000/50000 [==============================] - 14s 285us/step - loss: 1.9880 - acc: 0.2511 - val_loss: 2.1515 - val_acc: 0.2093\n",
            "Epoch 49/50\n",
            "50000/50000 [==============================] - 15s 293us/step - loss: 1.9769 - acc: 0.2563 - val_loss: 2.1575 - val_acc: 0.1995\n",
            "Epoch 50/50\n",
            "50000/50000 [==============================] - 15s 299us/step - loss: 1.9837 - acc: 0.2510 - val_loss: 2.0717 - val_acc: 0.2410\n"
          ],
          "name": "stdout"
        }
      ]
    },
    {
      "cell_type": "code",
      "metadata": {
        "id": "4_iytmjD8fQ5",
        "colab_type": "code",
        "colab": {
          "base_uri": "https://localhost:8080/",
          "height": 545
        },
        "outputId": "e0111f25-0d45-4da9-c6a4-c0470995f97f"
      },
      "source": [
        "import matplotlib.pyplot as plt\n",
        "%matplotlib inline\n",
        "\"\"\"Code Here\n",
        "將結果繪出\n",
        "\"\"\"\n",
        "\n",
        "import matplotlib.pyplot as plt\n",
        "%matplotlib inline\n",
        "\n",
        "plt.plot(range(len(train_loss)), train_loss, label=\"train loss\")\n",
        "plt.plot(range(len(valid_loss)), valid_loss, label=\"valid loss\")\n",
        "plt.legend()\n",
        "plt.title(\"Loss\")\n",
        "plt.show()\n",
        "\n",
        "plt.plot(range(len(train_acc)), train_acc, label=\"train accuracy\")\n",
        "plt.plot(range(len(valid_acc)), valid_acc, label=\"valid accuracy\")\n",
        "plt.legend()\n",
        "plt.title(\"Accuracy\")\n",
        "plt.show()"
      ],
      "execution_count": 19,
      "outputs": [
        {
          "output_type": "display_data",
          "data": {
            "image/png": "[encoded data removed]",
            "text/plain": [
              "<Figure size 432x288 with 1 Axes>"
            ]
          },
          "metadata": {
            "tags": []
          }
        },
        {
          "output_type": "display_data",
          "data": {
            "image/png": "[encoded data removed]",
            "text/plain": [
              "<Figure size 432x288 with 1 Axes>"
            ]
          },
          "metadata": {
            "tags": []
          }
        }
      ]
    },
    {
      "cell_type": "code",
      "metadata": {
        "id": "4slZ4vCZ8fQ8",
        "colab_type": "code",
        "colab": {}
      },
      "source": [
        "from keras.layers import Dropout\n",
        "\n",
        "\"\"\"\n",
        "建立神經網路，並加入 dropout layer\n",
        "\"\"\"\n",
        "def build_mlp(input_shape, output_units=10, num_neurons=[512, 256, 128,64,32], drp_ratio=0.2):\n",
        "    input_layer = keras.layers.Input(input_shape)\n",
        "    \n",
        "    for i, n_units in enumerate(num_neurons):\n",
        "        if i == 0:\n",
        "            x = keras.layers.Dense(units=n_units, \n",
        "                                   activation=\"relu\", \n",
        "                                   name=\"hidden_layer\"+str(i+1))(input_layer)\n",
        "            x = Dropout(drp_ratio)(x)\n",
        "        else:\n",
        "            x = keras.layers.Dense(units=n_units, \n",
        "                                   activation=\"relu\", \n",
        "                                   name=\"hidden_layer\"+str(i+1))(x)\n",
        "            x = Dropout(drp_ratio)(x)\n",
        "    \n",
        "    out = keras.layers.Dense(units=output_units, activation=\"softmax\", name=\"output\")(x)\n",
        "    \n",
        "    model = keras.models.Model(inputs=[input_layer], outputs=[out])\n",
        "    return model"
      ],
      "execution_count": 0,
      "outputs": []
    },
    {
      "cell_type": "code",
      "metadata": {
        "id": "P4aOtuP9H0oD",
        "colab_type": "code",
        "colab": {}
      },
      "source": [
        "\"\"\"Code Here\n",
        "設定超參數\n",
        "\"\"\"\n",
        "## 超參數設定\n",
        "LEARNING_RATE = 1e-3\n",
        "EPOCHS = 50\n",
        "BATCH_SIZE = 256\n",
        "MOMENTUM = 0.95\n",
        "Dropout_EXP = 0.25"
      ],
      "execution_count": 0,
      "outputs": []
    },
    {
      "cell_type": "code",
      "metadata": {
        "id": "0_e0SGoRH1ye",
        "colab_type": "code",
        "colab": {
          "base_uri": "https://localhost:8080/",
          "height": 1000
        },
        "outputId": "b52e5b8e-10fb-4870-c6e3-6bc69f768d9a"
      },
      "source": [
        "results = {}\n",
        "\"\"\"Code Here\n",
        "撰寫你的訓練流程並將結果用 dictionary 紀錄\n",
        "\"\"\"\n",
        "model = build_mlp(input_shape=x_train.shape[1:], drp_ratio=Dropout_EXP)\n",
        "model.summary()\n",
        "optimizer = keras.optimizers.Adam(lr=LEARNING_RATE)#, nesterov=True, momentum=MOMENTUM)\n",
        "model.compile(loss=\"categorical_crossentropy\", metrics=[\"accuracy\"], optimizer=optimizer)\n",
        "\n",
        "model.fit(x_train, y_train, \n",
        "          epochs=EPOCHS, \n",
        "          batch_size=BATCH_SIZE, \n",
        "          validation_data=(x_test, y_test), \n",
        "          shuffle=True)\n",
        "\n",
        "# Collect results\n",
        "train_loss = model.history.history[\"loss\"]\n",
        "valid_loss = model.history.history[\"val_loss\"]\n",
        "train_acc = model.history.history[\"acc\"]\n",
        "valid_acc = model.history.history[\"val_acc\"]"
      ],
      "execution_count": 22,
      "outputs": [
        {
          "output_type": "stream",
          "text": [
            "Model: \"model_4\"\n",
            "_________________________________________________________________\n",
            "Layer (type)                 Output Shape              Param #   \n",
            "=================================================================\n",
            "input_4 (InputLayer)         (None, 3072)              0         \n",
            "_________________________________________________________________\n",
            "hidden_layer1 (Dense)        (None, 512)               1573376   \n",
            "_________________________________________________________________\n",
            "dropout_10 (Dropout)         (None, 512)               0         \n",
            "_________________________________________________________________\n",
            "hidden_layer2 (Dense)        (None, 256)               131328    \n",
            "_________________________________________________________________\n",
            "dropout_11 (Dropout)         (None, 256)               0         \n",
            "_________________________________________________________________\n",
            "hidden_layer3 (Dense)        (None, 128)               32896     \n",
            "_________________________________________________________________\n",
            "dropout_12 (Dropout)         (None, 128)               0         \n",
            "_________________________________________________________________\n",
            "hidden_layer4 (Dense)        (None, 64)                8256      \n",
            "_________________________________________________________________\n",
            "dropout_13 (Dropout)         (None, 64)                0         \n",
            "_________________________________________________________________\n",
            "hidden_layer5 (Dense)        (None, 32)                2080      \n",
            "_________________________________________________________________\n",
            "dropout_14 (Dropout)         (None, 32)                0         \n",
            "_________________________________________________________________\n",
            "output (Dense)               (None, 10)                330       \n",
            "=================================================================\n",
            "Total params: 1,748,266\n",
            "Trainable params: 1,748,266\n",
            "Non-trainable params: 0\n",
            "_________________________________________________________________\n",
            "Train on 50000 samples, validate on 10000 samples\n",
            "Epoch 1/50\n",
            "50000/50000 [==============================] - 15s 305us/step - loss: 2.2266 - acc: 0.1559 - val_loss: 2.0176 - val_acc: 0.2420\n",
            "Epoch 2/50\n",
            "50000/50000 [==============================] - 15s 304us/step - loss: 2.0316 - acc: 0.2323 - val_loss: 1.9220 - val_acc: 0.2880\n",
            "Epoch 3/50\n",
            "50000/50000 [==============================] - 15s 294us/step - loss: 1.9733 - acc: 0.2532 - val_loss: 1.8718 - val_acc: 0.3140\n",
            "Epoch 4/50\n",
            "50000/50000 [==============================] - 16s 311us/step - loss: 1.9334 - acc: 0.2728 - val_loss: 1.8494 - val_acc: 0.3397\n",
            "Epoch 5/50\n",
            "50000/50000 [==============================] - 16s 315us/step - loss: 1.9120 - acc: 0.2870 - val_loss: 1.8190 - val_acc: 0.3411\n",
            "Epoch 6/50\n",
            "50000/50000 [==============================] - 15s 298us/step - loss: 1.9013 - acc: 0.2918 - val_loss: 1.8140 - val_acc: 0.3484\n",
            "Epoch 7/50\n",
            "50000/50000 [==============================] - 14s 283us/step - loss: 1.8796 - acc: 0.3056 - val_loss: 1.7947 - val_acc: 0.3506\n",
            "Epoch 8/50\n",
            "50000/50000 [==============================] - 16s 311us/step - loss: 1.8643 - acc: 0.3130 - val_loss: 1.8003 - val_acc: 0.3633\n",
            "Epoch 9/50\n",
            "50000/50000 [==============================] - 16s 324us/step - loss: 1.8460 - acc: 0.3231 - val_loss: 1.7453 - val_acc: 0.3682\n",
            "Epoch 10/50\n",
            "50000/50000 [==============================] - 15s 302us/step - loss: 1.8403 - acc: 0.3261 - val_loss: 1.7755 - val_acc: 0.3829\n",
            "Epoch 11/50\n",
            "50000/50000 [==============================] - 15s 305us/step - loss: 1.8256 - acc: 0.3320 - val_loss: 1.7475 - val_acc: 0.3904\n",
            "Epoch 12/50\n",
            "50000/50000 [==============================] - 16s 323us/step - loss: 1.8168 - acc: 0.3372 - val_loss: 1.7317 - val_acc: 0.3887\n",
            "Epoch 13/50\n",
            "50000/50000 [==============================] - 16s 326us/step - loss: 1.8098 - acc: 0.3377 - val_loss: 1.7361 - val_acc: 0.3831\n",
            "Epoch 14/50\n",
            "50000/50000 [==============================] - 16s 324us/step - loss: 1.8069 - acc: 0.3409 - val_loss: 1.7275 - val_acc: 0.3916\n",
            "Epoch 15/50\n",
            "50000/50000 [==============================] - 16s 316us/step - loss: 1.7983 - acc: 0.3467 - val_loss: 1.6993 - val_acc: 0.4011\n",
            "Epoch 16/50\n",
            "50000/50000 [==============================] - 16s 322us/step - loss: 1.7887 - acc: 0.3510 - val_loss: 1.7030 - val_acc: 0.4010\n",
            "Epoch 17/50\n",
            "50000/50000 [==============================] - 16s 317us/step - loss: 1.7815 - acc: 0.3526 - val_loss: 1.7264 - val_acc: 0.3976\n",
            "Epoch 18/50\n",
            "50000/50000 [==============================] - 15s 303us/step - loss: 1.7805 - acc: 0.3540 - val_loss: 1.6949 - val_acc: 0.3902\n",
            "Epoch 19/50\n",
            "50000/50000 [==============================] - 16s 323us/step - loss: 1.7811 - acc: 0.3555 - val_loss: 1.7100 - val_acc: 0.3997\n",
            "Epoch 20/50\n",
            "50000/50000 [==============================] - 16s 323us/step - loss: 1.7744 - acc: 0.3593 - val_loss: 1.6892 - val_acc: 0.4062\n",
            "Epoch 21/50\n",
            "50000/50000 [==============================] - 16s 323us/step - loss: 1.7644 - acc: 0.3612 - val_loss: 1.6570 - val_acc: 0.4170\n",
            "Epoch 22/50\n",
            "50000/50000 [==============================] - 17s 330us/step - loss: 1.7584 - acc: 0.3647 - val_loss: 1.6551 - val_acc: 0.4166\n",
            "Epoch 23/50\n",
            "50000/50000 [==============================] - 16s 323us/step - loss: 1.7557 - acc: 0.3686 - val_loss: 1.6776 - val_acc: 0.4061\n",
            "Epoch 24/50\n",
            "50000/50000 [==============================] - 16s 316us/step - loss: 1.7468 - acc: 0.3697 - val_loss: 1.6759 - val_acc: 0.4141\n",
            "Epoch 25/50\n",
            "50000/50000 [==============================] - 15s 304us/step - loss: 1.7485 - acc: 0.3674 - val_loss: 1.6561 - val_acc: 0.4110\n",
            "Epoch 26/50\n",
            "50000/50000 [==============================] - 14s 282us/step - loss: 1.7472 - acc: 0.3707 - val_loss: 1.6751 - val_acc: 0.4079\n",
            "Epoch 27/50\n",
            "50000/50000 [==============================] - 14s 287us/step - loss: 1.7381 - acc: 0.3718 - val_loss: 1.6863 - val_acc: 0.4073\n",
            "Epoch 28/50\n",
            "50000/50000 [==============================] - 14s 290us/step - loss: 1.7397 - acc: 0.3731 - val_loss: 1.6334 - val_acc: 0.4221\n",
            "Epoch 29/50\n",
            "50000/50000 [==============================] - 14s 276us/step - loss: 1.7393 - acc: 0.3738 - val_loss: 1.6624 - val_acc: 0.4121\n",
            "Epoch 30/50\n",
            "50000/50000 [==============================] - 14s 280us/step - loss: 1.7302 - acc: 0.3769 - val_loss: 1.6551 - val_acc: 0.4144\n",
            "Epoch 31/50\n",
            "50000/50000 [==============================] - 14s 290us/step - loss: 1.7360 - acc: 0.3800 - val_loss: 1.6324 - val_acc: 0.4234\n",
            "Epoch 32/50\n",
            "50000/50000 [==============================] - 15s 308us/step - loss: 1.7289 - acc: 0.3790 - val_loss: 1.6540 - val_acc: 0.4117\n",
            "Epoch 33/50\n",
            "50000/50000 [==============================] - 16s 321us/step - loss: 1.7199 - acc: 0.3838 - val_loss: 1.6503 - val_acc: 0.4237\n",
            "Epoch 34/50\n",
            "50000/50000 [==============================] - 15s 303us/step - loss: 1.7288 - acc: 0.3785 - val_loss: 1.6399 - val_acc: 0.4195\n",
            "Epoch 35/50\n",
            "50000/50000 [==============================] - 15s 305us/step - loss: 1.7166 - acc: 0.3829 - val_loss: 1.6446 - val_acc: 0.4141\n",
            "Epoch 36/50\n",
            "50000/50000 [==============================] - 16s 321us/step - loss: 1.7197 - acc: 0.3813 - val_loss: 1.6585 - val_acc: 0.4136\n",
            "Epoch 37/50\n",
            "50000/50000 [==============================] - 16s 322us/step - loss: 1.7204 - acc: 0.3832 - val_loss: 1.6515 - val_acc: 0.4123\n",
            "Epoch 38/50\n",
            "50000/50000 [==============================] - 16s 329us/step - loss: 1.7189 - acc: 0.3807 - val_loss: 1.6654 - val_acc: 0.4150\n",
            "Epoch 39/50\n",
            "50000/50000 [==============================] - 16s 321us/step - loss: 1.7170 - acc: 0.3831 - val_loss: 1.6243 - val_acc: 0.4270\n",
            "Epoch 40/50\n",
            "50000/50000 [==============================] - 16s 321us/step - loss: 1.7118 - acc: 0.3845 - val_loss: 1.6746 - val_acc: 0.4116\n",
            "Epoch 41/50\n",
            "50000/50000 [==============================] - 15s 298us/step - loss: 1.7044 - acc: 0.3903 - val_loss: 1.6386 - val_acc: 0.4091\n",
            "Epoch 42/50\n",
            "50000/50000 [==============================] - 16s 310us/step - loss: 1.7001 - acc: 0.3925 - val_loss: 1.6167 - val_acc: 0.4230\n",
            "Epoch 43/50\n",
            "50000/50000 [==============================] - 15s 309us/step - loss: 1.7044 - acc: 0.3886 - val_loss: 1.6222 - val_acc: 0.4296\n",
            "Epoch 44/50\n",
            "50000/50000 [==============================] - 16s 314us/step - loss: 1.7025 - acc: 0.3914 - val_loss: 1.6280 - val_acc: 0.4291\n",
            "Epoch 45/50\n",
            "50000/50000 [==============================] - 15s 292us/step - loss: 1.6988 - acc: 0.3920 - val_loss: 1.6069 - val_acc: 0.4310\n",
            "Epoch 46/50\n",
            "50000/50000 [==============================] - 14s 284us/step - loss: 1.6948 - acc: 0.3934 - val_loss: 1.6233 - val_acc: 0.4236\n",
            "Epoch 47/50\n",
            "50000/50000 [==============================] - 15s 293us/step - loss: 1.6918 - acc: 0.3945 - val_loss: 1.6177 - val_acc: 0.4281\n",
            "Epoch 48/50\n",
            "50000/50000 [==============================] - 15s 295us/step - loss: 1.6894 - acc: 0.3954 - val_loss: 1.6082 - val_acc: 0.4378\n",
            "Epoch 49/50\n",
            "50000/50000 [==============================] - 14s 289us/step - loss: 1.6922 - acc: 0.3954 - val_loss: 1.6235 - val_acc: 0.4337\n",
            "Epoch 50/50\n",
            "50000/50000 [==============================] - 14s 288us/step - loss: 1.6882 - acc: 0.3976 - val_loss: 1.6176 - val_acc: 0.4277\n"
          ],
          "name": "stdout"
        }
      ]
    },
    {
      "cell_type": "code",
      "metadata": {
        "id": "jw7rC6CiH2CP",
        "colab_type": "code",
        "colab": {
          "base_uri": "https://localhost:8080/",
          "height": 545
        },
        "outputId": "ec0a2b8c-abe3-406b-c8d6-069acecacea7"
      },
      "source": [
        "import matplotlib.pyplot as plt\n",
        "%matplotlib inline\n",
        "\"\"\"Code Here\n",
        "將結果繪出\n",
        "\"\"\"\n",
        "\n",
        "import matplotlib.pyplot as plt\n",
        "%matplotlib inline\n",
        "\n",
        "plt.plot(range(len(train_loss)), train_loss, label=\"train loss\")\n",
        "plt.plot(range(len(valid_loss)), valid_loss, label=\"valid loss\")\n",
        "plt.legend()\n",
        "plt.title(\"Loss\")\n",
        "plt.show()\n",
        "\n",
        "plt.plot(range(len(train_acc)), train_acc, label=\"train accuracy\")\n",
        "plt.plot(range(len(valid_acc)), valid_acc, label=\"valid accuracy\")\n",
        "plt.legend()\n",
        "plt.title(\"Accuracy\")\n",
        "plt.show()"
      ],
      "execution_count": 23,
      "outputs": [
        {
          "output_type": "display_data",
          "data": {
            "image/png": "[encoded data removed]",
            "text/plain": [
              "<Figure size 432x288 with 1 Axes>"
            ]
          },
          "metadata": {
            "tags": []
          }
        },
        {
          "output_type": "display_data",
          "data": {
            "image/png": "[encoded data removed]",
            "text/plain": [
              "<Figure size 432x288 with 1 Axes>"
            ]
          },
          "metadata": {
            "tags": []
          }
        }
      ]
    },
    {
      "cell_type": "code",
      "metadata": {
        "id": "L59JRlAoH2OC",
        "colab_type": "code",
        "colab": {}
      },
      "source": [
        "from keras.layers import Dropout\n",
        "\n",
        "\"\"\"\n",
        "建立神經網路，並加入 dropout layer\n",
        "\"\"\"\n",
        "def build_mlp(input_shape, output_units=10, num_neurons=[512, 256, 128,64,32], drp_ratio=0.3):\n",
        "    input_layer = keras.layers.Input(input_shape)\n",
        "    \n",
        "    for i, n_units in enumerate(num_neurons):\n",
        "        if i == 0:\n",
        "            x = keras.layers.Dense(units=n_units, \n",
        "                                   activation=\"relu\", \n",
        "                                   name=\"hidden_layer\"+str(i+1))(input_layer)\n",
        "            x = Dropout(drp_ratio)(x)\n",
        "        else:\n",
        "            x = keras.layers.Dense(units=n_units, \n",
        "                                   activation=\"relu\", \n",
        "                                   name=\"hidden_layer\"+str(i+1))(x)\n",
        "            x = Dropout(drp_ratio)(x)\n",
        "    \n",
        "    out = keras.layers.Dense(units=output_units, activation=\"softmax\", name=\"output\")(x)\n",
        "    \n",
        "    model = keras.models.Model(inputs=[input_layer], outputs=[out])\n",
        "    return model"
      ],
      "execution_count": 0,
      "outputs": []
    },
    {
      "cell_type": "code",
      "metadata": {
        "id": "iv0QEs3qH2Zo",
        "colab_type": "code",
        "colab": {}
      },
      "source": [
        "\"\"\"Code Here\n",
        "設定超參數\n",
        "\"\"\"\n",
        "## 超參數設定\n",
        "LEARNING_RATE = 1e-3\n",
        "EPOCHS = 50\n",
        "BATCH_SIZE = 256\n",
        "MOMENTUM = 0.95\n",
        "Dropout_EXP = 0.25"
      ],
      "execution_count": 0,
      "outputs": []
    },
    {
      "cell_type": "code",
      "metadata": {
        "id": "eSk5IGzuH2lH",
        "colab_type": "code",
        "colab": {
          "base_uri": "https://localhost:8080/",
          "height": 1000
        },
        "outputId": "22feb205-705a-4294-d18f-b3836f9d9791"
      },
      "source": [
        "results = {}\n",
        "\"\"\"Code Here\n",
        "撰寫你的訓練流程並將結果用 dictionary 紀錄\n",
        "\"\"\"\n",
        "model = build_mlp(input_shape=x_train.shape[1:], drp_ratio=Dropout_EXP)\n",
        "model.summary()\n",
        "optimizer = keras.optimizers.Adam(lr=LEARNING_RATE)#, nesterov=True, momentum=MOMENTUM)\n",
        "model.compile(loss=\"categorical_crossentropy\", metrics=[\"accuracy\"], optimizer=optimizer)\n",
        "\n",
        "model.fit(x_train, y_train, \n",
        "          epochs=EPOCHS, \n",
        "          batch_size=BATCH_SIZE, \n",
        "          validation_data=(x_test, y_test), \n",
        "          shuffle=True)\n",
        "\n",
        "# Collect results\n",
        "train_loss = model.history.history[\"loss\"]\n",
        "valid_loss = model.history.history[\"val_loss\"]\n",
        "train_acc = model.history.history[\"acc\"]\n",
        "valid_acc = model.history.history[\"val_acc\"]"
      ],
      "execution_count": 26,
      "outputs": [
        {
          "output_type": "stream",
          "text": [
            "Model: \"model_5\"\n",
            "_________________________________________________________________\n",
            "Layer (type)                 Output Shape              Param #   \n",
            "=================================================================\n",
            "input_5 (InputLayer)         (None, 3072)              0         \n",
            "_________________________________________________________________\n",
            "hidden_layer1 (Dense)        (None, 512)               1573376   \n",
            "_________________________________________________________________\n",
            "dropout_15 (Dropout)         (None, 512)               0         \n",
            "_________________________________________________________________\n",
            "hidden_layer2 (Dense)        (None, 256)               131328    \n",
            "_________________________________________________________________\n",
            "dropout_16 (Dropout)         (None, 256)               0         \n",
            "_________________________________________________________________\n",
            "hidden_layer3 (Dense)        (None, 128)               32896     \n",
            "_________________________________________________________________\n",
            "dropout_17 (Dropout)         (None, 128)               0         \n",
            "_________________________________________________________________\n",
            "hidden_layer4 (Dense)        (None, 64)                8256      \n",
            "_________________________________________________________________\n",
            "dropout_18 (Dropout)         (None, 64)                0         \n",
            "_________________________________________________________________\n",
            "hidden_layer5 (Dense)        (None, 32)                2080      \n",
            "_________________________________________________________________\n",
            "dropout_19 (Dropout)         (None, 32)                0         \n",
            "_________________________________________________________________\n",
            "output (Dense)               (None, 10)                330       \n",
            "=================================================================\n",
            "Total params: 1,748,266\n",
            "Trainable params: 1,748,266\n",
            "Non-trainable params: 0\n",
            "_________________________________________________________________\n",
            "Train on 50000 samples, validate on 10000 samples\n",
            "Epoch 1/50\n",
            "50000/50000 [==============================] - 16s 326us/step - loss: 2.2200 - acc: 0.1470 - val_loss: 2.0785 - val_acc: 0.2110\n",
            "Epoch 2/50\n",
            "50000/50000 [==============================] - 16s 321us/step - loss: 2.0592 - acc: 0.2073 - val_loss: 1.9284 - val_acc: 0.2695\n",
            "Epoch 3/50\n",
            "50000/50000 [==============================] - 15s 309us/step - loss: 1.9866 - acc: 0.2457 - val_loss: 1.8916 - val_acc: 0.2992\n",
            "Epoch 4/50\n",
            "50000/50000 [==============================] - 16s 322us/step - loss: 1.9515 - acc: 0.2604 - val_loss: 1.8597 - val_acc: 0.3169\n",
            "Epoch 5/50\n",
            "50000/50000 [==============================] - 16s 319us/step - loss: 1.9251 - acc: 0.2754 - val_loss: 1.8409 - val_acc: 0.3278\n",
            "Epoch 6/50\n",
            "50000/50000 [==============================] - 16s 323us/step - loss: 1.9058 - acc: 0.2848 - val_loss: 1.8296 - val_acc: 0.3267\n",
            "Epoch 7/50\n",
            "50000/50000 [==============================] - 15s 302us/step - loss: 1.8952 - acc: 0.2913 - val_loss: 1.8109 - val_acc: 0.3301\n",
            "Epoch 8/50\n",
            "50000/50000 [==============================] - 16s 323us/step - loss: 1.8759 - acc: 0.2968 - val_loss: 1.8181 - val_acc: 0.3292\n",
            "Epoch 9/50\n",
            "50000/50000 [==============================] - 16s 320us/step - loss: 1.8662 - acc: 0.3052 - val_loss: 1.8162 - val_acc: 0.3439\n",
            "Epoch 10/50\n",
            "50000/50000 [==============================] - 16s 319us/step - loss: 1.8568 - acc: 0.3131 - val_loss: 1.7964 - val_acc: 0.3493\n",
            "Epoch 11/50\n",
            "50000/50000 [==============================] - 17s 330us/step - loss: 1.8534 - acc: 0.3141 - val_loss: 1.8099 - val_acc: 0.3414\n",
            "Epoch 12/50\n",
            "50000/50000 [==============================] - 16s 329us/step - loss: 1.8344 - acc: 0.3213 - val_loss: 1.7437 - val_acc: 0.3726\n",
            "Epoch 13/50\n",
            "50000/50000 [==============================] - 16s 325us/step - loss: 1.8311 - acc: 0.3272 - val_loss: 1.7555 - val_acc: 0.3769\n",
            "Epoch 14/50\n",
            "50000/50000 [==============================] - 16s 327us/step - loss: 1.8251 - acc: 0.3283 - val_loss: 1.8052 - val_acc: 0.3454\n",
            "Epoch 15/50\n",
            "50000/50000 [==============================] - 16s 325us/step - loss: 1.8145 - acc: 0.3363 - val_loss: 1.7574 - val_acc: 0.3660\n",
            "Epoch 16/50\n",
            "50000/50000 [==============================] - 16s 326us/step - loss: 1.8069 - acc: 0.3385 - val_loss: 1.7154 - val_acc: 0.3839\n",
            "Epoch 17/50\n",
            "50000/50000 [==============================] - 16s 327us/step - loss: 1.8051 - acc: 0.3404 - val_loss: 1.7516 - val_acc: 0.3692\n",
            "Epoch 18/50\n",
            "50000/50000 [==============================] - 15s 303us/step - loss: 1.7930 - acc: 0.3431 - val_loss: 1.6942 - val_acc: 0.4011\n",
            "Epoch 19/50\n",
            "50000/50000 [==============================] - 15s 306us/step - loss: 1.7920 - acc: 0.3433 - val_loss: 1.7410 - val_acc: 0.3843\n",
            "Epoch 20/50\n",
            "50000/50000 [==============================] - 16s 320us/step - loss: 1.7818 - acc: 0.3479 - val_loss: 1.7047 - val_acc: 0.3854\n",
            "Epoch 21/50\n",
            "50000/50000 [==============================] - 16s 325us/step - loss: 1.7815 - acc: 0.3488 - val_loss: 1.7350 - val_acc: 0.3786\n",
            "Epoch 22/50\n",
            "50000/50000 [==============================] - 16s 320us/step - loss: 1.7804 - acc: 0.3493 - val_loss: 1.6954 - val_acc: 0.3975\n",
            "Epoch 23/50\n",
            "50000/50000 [==============================] - 16s 322us/step - loss: 1.7719 - acc: 0.3532 - val_loss: 1.7084 - val_acc: 0.4041\n",
            "Epoch 24/50\n",
            "50000/50000 [==============================] - 16s 319us/step - loss: 1.7688 - acc: 0.3556 - val_loss: 1.6903 - val_acc: 0.3859\n",
            "Epoch 25/50\n",
            "50000/50000 [==============================] - 16s 325us/step - loss: 1.7705 - acc: 0.3568 - val_loss: 1.6768 - val_acc: 0.3950\n",
            "Epoch 26/50\n",
            "50000/50000 [==============================] - 15s 308us/step - loss: 1.7608 - acc: 0.3606 - val_loss: 1.6914 - val_acc: 0.3979\n",
            "Epoch 27/50\n",
            "50000/50000 [==============================] - 14s 285us/step - loss: 1.7563 - acc: 0.3606 - val_loss: 1.6861 - val_acc: 0.3970\n",
            "Epoch 28/50\n",
            "50000/50000 [==============================] - 16s 312us/step - loss: 1.7521 - acc: 0.3643 - val_loss: 1.7237 - val_acc: 0.3717\n",
            "Epoch 29/50\n",
            "50000/50000 [==============================] - 16s 317us/step - loss: 1.7563 - acc: 0.3608 - val_loss: 1.6784 - val_acc: 0.4077\n",
            "Epoch 30/50\n",
            "50000/50000 [==============================] - 16s 312us/step - loss: 1.7418 - acc: 0.3663 - val_loss: 1.6791 - val_acc: 0.3926\n",
            "Epoch 31/50\n",
            "50000/50000 [==============================] - 15s 307us/step - loss: 1.7481 - acc: 0.3660 - val_loss: 1.6618 - val_acc: 0.4049\n",
            "Epoch 32/50\n",
            "50000/50000 [==============================] - 16s 314us/step - loss: 1.7409 - acc: 0.3683 - val_loss: 1.6750 - val_acc: 0.4060\n",
            "Epoch 33/50\n",
            "50000/50000 [==============================] - 15s 309us/step - loss: 1.7374 - acc: 0.3721 - val_loss: 1.6724 - val_acc: 0.4046\n",
            "Epoch 34/50\n",
            "50000/50000 [==============================] - 17s 340us/step - loss: 1.7357 - acc: 0.3730 - val_loss: 1.6590 - val_acc: 0.4143\n",
            "Epoch 35/50\n",
            "50000/50000 [==============================] - 17s 337us/step - loss: 1.7389 - acc: 0.3713 - val_loss: 1.6861 - val_acc: 0.4099\n",
            "Epoch 36/50\n",
            "50000/50000 [==============================] - 17s 341us/step - loss: 1.7308 - acc: 0.3749 - val_loss: 1.6493 - val_acc: 0.4162\n",
            "Epoch 37/50\n",
            "50000/50000 [==============================] - 18s 351us/step - loss: 1.7309 - acc: 0.3735 - val_loss: 1.6838 - val_acc: 0.3953\n",
            "Epoch 38/50\n",
            "50000/50000 [==============================] - 18s 352us/step - loss: 1.7301 - acc: 0.3753 - val_loss: 1.6381 - val_acc: 0.4179\n",
            "Epoch 39/50\n",
            "50000/50000 [==============================] - 17s 349us/step - loss: 1.7271 - acc: 0.3786 - val_loss: 1.6518 - val_acc: 0.4073\n",
            "Epoch 40/50\n",
            "50000/50000 [==============================] - 17s 349us/step - loss: 1.7195 - acc: 0.3773 - val_loss: 1.6295 - val_acc: 0.4208\n",
            "Epoch 41/50\n",
            "50000/50000 [==============================] - 18s 357us/step - loss: 1.7225 - acc: 0.3783 - val_loss: 1.6435 - val_acc: 0.4112\n",
            "Epoch 42/50\n",
            "50000/50000 [==============================] - 16s 327us/step - loss: 1.7144 - acc: 0.3807 - val_loss: 1.6450 - val_acc: 0.4128\n",
            "Epoch 43/50\n",
            "50000/50000 [==============================] - 16s 326us/step - loss: 1.7164 - acc: 0.3806 - val_loss: 1.6308 - val_acc: 0.4200\n",
            "Epoch 44/50\n",
            "50000/50000 [==============================] - 15s 297us/step - loss: 1.7147 - acc: 0.3801 - val_loss: 1.6476 - val_acc: 0.4103\n",
            "Epoch 45/50\n",
            "50000/50000 [==============================] - 16s 318us/step - loss: 1.7122 - acc: 0.3827 - val_loss: 1.7031 - val_acc: 0.3949\n",
            "Epoch 46/50\n",
            "50000/50000 [==============================] - 16s 312us/step - loss: 1.7044 - acc: 0.3839 - val_loss: 1.6117 - val_acc: 0.4261\n",
            "Epoch 47/50\n",
            "50000/50000 [==============================] - 16s 311us/step - loss: 1.7059 - acc: 0.3837 - val_loss: 1.6143 - val_acc: 0.4266\n",
            "Epoch 48/50\n",
            "50000/50000 [==============================] - 15s 297us/step - loss: 1.7019 - acc: 0.3884 - val_loss: 1.6098 - val_acc: 0.4254\n",
            "Epoch 49/50\n",
            "50000/50000 [==============================] - 15s 305us/step - loss: 1.6954 - acc: 0.3889 - val_loss: 1.6456 - val_acc: 0.4169\n",
            "Epoch 50/50\n",
            "50000/50000 [==============================] - 15s 301us/step - loss: 1.7000 - acc: 0.3862 - val_loss: 1.6238 - val_acc: 0.4234\n"
          ],
          "name": "stdout"
        }
      ]
    },
    {
      "cell_type": "code",
      "metadata": {
        "id": "MytKhxHUH22o",
        "colab_type": "code",
        "colab": {
          "base_uri": "https://localhost:8080/",
          "height": 545
        },
        "outputId": "dbb2ae6d-37bd-4596-bdb4-f05fd8ec0da1"
      },
      "source": [
        "import matplotlib.pyplot as plt\n",
        "%matplotlib inline\n",
        "\"\"\"Code Here\n",
        "將結果繪出\n",
        "\"\"\"\n",
        "\n",
        "import matplotlib.pyplot as plt\n",
        "%matplotlib inline\n",
        "\n",
        "plt.plot(range(len(train_loss)), train_loss, label=\"train loss\")\n",
        "plt.plot(range(len(valid_loss)), valid_loss, label=\"valid loss\")\n",
        "plt.legend()\n",
        "plt.title(\"Loss\")\n",
        "plt.show()\n",
        "\n",
        "plt.plot(range(len(train_acc)), train_acc, label=\"train accuracy\")\n",
        "plt.plot(range(len(valid_acc)), valid_acc, label=\"valid accuracy\")\n",
        "plt.legend()\n",
        "plt.title(\"Accuracy\")\n",
        "plt.show()"
      ],
      "execution_count": 27,
      "outputs": [
        {
          "output_type": "display_data",
          "data": {
            "image/png": "[encoded data removed]",
            "text/plain": [
              "<Figure size 432x288 with 1 Axes>"
            ]
          },
          "metadata": {
            "tags": []
          }
        },
        {
          "output_type": "display_data",
          "data": {
            "image/png": "[encoded data removed]",
            "text/plain": [
              "<Figure size 432x288 with 1 Axes>"
            ]
          },
          "metadata": {
            "tags": []
          }
        }
      ]
    },
    {
      "cell_type": "code",
      "metadata": {
        "id": "5IK3_cPgH3sM",
        "colab_type": "code",
        "colab": {}
      },
      "source": [
        ""
      ],
      "execution_count": 0,
      "outputs": []
    },
    {
      "cell_type": "code",
      "metadata": {
        "id": "LopQno35H1Fg",
        "colab_type": "code",
        "colab": {}
      },
      "source": [
        ""
      ],
      "execution_count": 0,
      "outputs": []
    }
  ]
}